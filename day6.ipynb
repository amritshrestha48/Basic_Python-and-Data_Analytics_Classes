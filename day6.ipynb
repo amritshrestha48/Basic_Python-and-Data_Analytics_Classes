{
 "cells": [
  {
   "cell_type": "markdown",
   "id": "ac8f4ac4",
   "metadata": {},
   "source": [
    "# day-6"
   ]
  },
  {
   "cell_type": "markdown",
   "id": "4906f1e7",
   "metadata": {},
   "source": [
    "# user-defined function"
   ]
  },
  {
   "cell_type": "markdown",
   "id": "72bf518b",
   "metadata": {},
   "source": [
    "# creating a user define function"
   ]
  },
  {
   "cell_type": "code",
   "execution_count": 13,
   "id": "45b0929f",
   "metadata": {},
   "outputs": [],
   "source": [
    "def my_function(): \n",
    "    print(\"hello class\")\n",
    "    print(\"we are learning python\")"
   ]
  },
  {
   "cell_type": "markdown",
   "id": "3cd73965",
   "metadata": {},
   "source": [
    "# calling a function"
   ]
  },
  {
   "cell_type": "code",
   "execution_count": 14,
   "id": "7469bce9",
   "metadata": {},
   "outputs": [
    {
     "name": "stdout",
     "output_type": "stream",
     "text": [
      "hello class\n",
      "we are learning python\n"
     ]
    }
   ],
   "source": [
    "my_function()"
   ]
  },
  {
   "cell_type": "markdown",
   "id": "95065f86",
   "metadata": {},
   "source": [
    "# Making the result of a student"
   ]
  },
  {
   "cell_type": "code",
   "execution_count": 15,
   "id": "5458aad4",
   "metadata": {},
   "outputs": [],
   "source": [
    "def contact():\n",
    "    print(\"contact details of the school\")\n",
    "    print(\"Delhi public School\")\n",
    "    print(\"bangalore karanatka\")\n",
    "    print(\"9867873746\")\n",
    "    print(\"shresthaamrit979@gmail.com\")"
   ]
  },
  {
   "cell_type": "code",
   "execution_count": 16,
   "id": "02907f47",
   "metadata": {},
   "outputs": [
    {
     "name": "stdout",
     "output_type": "stream",
     "text": [
      "Name of the stuidentAmrit Shrestha\n",
      "enter the marks of maths90\n",
      "enter the marks of science78\n",
      "enter the marks of social87\n",
      "\n",
      "contact details of the school\n",
      "Delhi public School\n",
      "bangalore karanatka\n",
      "9867873746\n",
      "shresthaamrit979@gmail.com\n",
      "Name of the stuidentAadit Shrestha\n",
      "enter the marks of maths87\n",
      "enter the marks of science98\n",
      "enter the marks of social77\n",
      "\n",
      "contact details of the school\n",
      "Delhi public School\n",
      "bangalore karanatka\n",
      "9867873746\n",
      "shresthaamrit979@gmail.com\n",
      "Name of the stuidentAaditya\n",
      "enter the marks of maths67\n",
      "enter the marks of science8\n",
      "enter the marks of social9\n",
      "\n",
      "contact details of the school\n",
      "Delhi public School\n",
      "bangalore karanatka\n",
      "9867873746\n",
      "shresthaamrit979@gmail.com\n",
      "Name of the stuidentsapna\n",
      "enter the marks of maths87\n",
      "enter the marks of science88\n",
      "enter the marks of social77\n",
      "\n",
      "contact details of the school\n",
      "Delhi public School\n",
      "bangalore karanatka\n",
      "9867873746\n",
      "shresthaamrit979@gmail.com\n"
     ]
    }
   ],
   "source": [
    "for i in range(4):\n",
    "    a=input(\"Name of the stuident\")\n",
    "    b=int(input(\"enter the marks of maths\"))\n",
    "    c=int(input(\"enter the marks of science\"))\n",
    "    d=int(input(\"enter the marks of social\"))\n",
    "    print()\n",
    "    contact()"
   ]
  },
  {
   "cell_type": "markdown",
   "id": "a82c9091",
   "metadata": {},
   "source": [
    "# Arguments"
   ]
  },
  {
   "cell_type": "code",
   "execution_count": 21,
   "id": "1b9d58d1",
   "metadata": {},
   "outputs": [],
   "source": [
    "def my_function(fname):\n",
    "    print(fname+\" \"+\"sharma\")"
   ]
  },
  {
   "cell_type": "code",
   "execution_count": 24,
   "id": "d6e5c1e0",
   "metadata": {},
   "outputs": [
    {
     "name": "stdout",
     "output_type": "stream",
     "text": [
      "pooja sharma\n",
      "priya sharma\n",
      "prasant sharma\n"
     ]
    }
   ],
   "source": [
    "my_function(\"pooja\")\n",
    "my_function(\"priya\")\n",
    "my_function(\"prasant\")"
   ]
  },
  {
   "cell_type": "code",
   "execution_count": 25,
   "id": "914cd96d",
   "metadata": {},
   "outputs": [],
   "source": [
    "def my_function(fname,lname):\n",
    "    print(fname+\" \"+lname)"
   ]
  },
  {
   "cell_type": "code",
   "execution_count": 26,
   "id": "98ed9eea",
   "metadata": {},
   "outputs": [
    {
     "name": "stdout",
     "output_type": "stream",
     "text": [
      "pooja verma\n"
     ]
    }
   ],
   "source": [
    "my_function(\"pooja\",\"verma\")"
   ]
  },
  {
   "cell_type": "code",
   "execution_count": null,
   "id": "4200705d",
   "metadata": {},
   "outputs": [],
   "source": [
    "#write a program to calculate the electricity bill\n",
    "condition\n",
    "if 500 unit used - pay rs 5 for each unit\n",
    "if 700 unit used - pay rs 10 for each unit\n",
    "if 1000 unit used - pay rs 15 for each unit\n",
    "if more than 1000 unit used - pay rs 20 for each unit"
   ]
  },
  {
   "cell_type": "code",
   "execution_count": 27,
   "id": "2e6a673c",
   "metadata": {},
   "outputs": [],
   "source": [
    "def electricity_bill(n):\n",
    "    if n<=500:\n",
    "        print(\"your bill is rs\",n*5)\n",
    "    elif n>500 and n<=700:\n",
    "        print(\"your bill is rs\",n*10)\n",
    "    elif n>700 and n<=1000:\n",
    "        print(\"your bill is rs\",n*15)\n",
    "    elif n>1000:\n",
    "        print(\"your bill is rs\",n*20)"
   ]
  },
  {
   "cell_type": "code",
   "execution_count": 32,
   "id": "d35eb357",
   "metadata": {},
   "outputs": [],
   "source": [
    "def instruction():\n",
    "    print(\"last date of paying the bill is 20 april\")\n",
    "    print(\"after 20 april you need to pay rs 1000 as a fine\")\n",
    "    print(\"Electricity office kathmandu\")"
   ]
  },
  {
   "cell_type": "code",
   "execution_count": 33,
   "id": "b3c2825d",
   "metadata": {},
   "outputs": [
    {
     "name": "stdout",
     "output_type": "stream",
     "text": [
      "enter the name of a customerMenuka\n",
      "enter the unit of electricity you have used650\n",
      "\n",
      "your bill is rs 6500\n",
      "last date of paying the bill is 20 april\n",
      "after 20 april you need to pay rs 1000 as a fine\n",
      "Electricity office kathmandu\n",
      "enter the name of a customerram,\n",
      "enter the unit of electricity you have used1300\n",
      "\n",
      "your bill is rs 26000\n",
      "last date of paying the bill is 20 april\n",
      "after 20 april you need to pay rs 1000 as a fine\n",
      "Electricity office kathmandu\n",
      "enter the name of a customeramrit\n",
      "enter the unit of electricity you have used750\n",
      "\n",
      "your bill is rs 11250\n",
      "last date of paying the bill is 20 april\n",
      "after 20 april you need to pay rs 1000 as a fine\n",
      "Electricity office kathmandu\n"
     ]
    }
   ],
   "source": [
    "for i in range(3):\n",
    "    a=input(\"enter the name of a customer\")\n",
    "    n=int(input(\"enter the unit of electricity you have used\"))\n",
    "    print()\n",
    "    electricity_bill(n)\n",
    "    instruction()"
   ]
  },
  {
   "cell_type": "code",
   "execution_count": null,
   "id": "5f963a1a",
   "metadata": {},
   "outputs": [],
   "source": []
  }
 ],
 "metadata": {
  "kernelspec": {
   "display_name": "Python 3 (ipykernel)",
   "language": "python",
   "name": "python3"
  },
  "language_info": {
   "codemirror_mode": {
    "name": "ipython",
    "version": 3
   },
   "file_extension": ".py",
   "mimetype": "text/x-python",
   "name": "python",
   "nbconvert_exporter": "python",
   "pygments_lexer": "ipython3",
   "version": "3.11.5"
  }
 },
 "nbformat": 4,
 "nbformat_minor": 5
}
