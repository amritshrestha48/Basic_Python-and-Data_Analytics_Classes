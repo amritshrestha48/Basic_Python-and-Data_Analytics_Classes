{
 "cells": [
  {
   "cell_type": "markdown",
   "id": "5f4b2425",
   "metadata": {},
   "source": [
    "# day-4"
   ]
  },
  {
   "cell_type": "markdown",
   "id": "b1c28fb9",
   "metadata": {},
   "source": [
    "# control flow statements"
   ]
  },
  {
   "cell_type": "markdown",
   "id": "805ca94b",
   "metadata": {},
   "source": [
    "# if condition"
   ]
  },
  {
   "cell_type": "markdown",
   "id": "219f6204",
   "metadata": {},
   "source": [
    "write a program to calculate the percentage of a student in the subjects maths science social english hind"
   ]
  },
  {
   "cell_type": "code",
   "execution_count": 8,
   "id": "c3b52a3e",
   "metadata": {},
   "outputs": [
    {
     "name": "stdout",
     "output_type": "stream",
     "text": [
      "Enter the name of a studentAmrit Shrestha\n",
      "enter the marks scored in english67\n",
      "enter the marks scored in hindi87\n",
      "enter the marks scored in maths98\n",
      "enter the marks scored in science66\n",
      "enter the marks scored in social78\n",
      "the percent scored by student is 79.2\n"
     ]
    }
   ],
   "source": [
    "x=input(\"Enter the name of a student\")\n",
    "a=int(input(\"enter the marks scored in english\"))\n",
    "b=int(input(\"enter the marks scored in hindi\"))\n",
    "c=int(input(\"enter the marks scored in maths\"))\n",
    "d=int(input(\"enter the marks scored in science\"))\n",
    "e=int(input(\"enter the marks scored in social\"))\n",
    "n=((a+b+c+d+e)/500)*100\n",
    "print(\"the percent scored by student is\",n)"
   ]
  },
  {
   "cell_type": "code",
   "execution_count": 11,
   "id": "d6733d44",
   "metadata": {},
   "outputs": [
    {
     "name": "stdout",
     "output_type": "stream",
     "text": [
      "enter the percentage score by a student80\n",
      "B grade\n"
     ]
    }
   ],
   "source": [
    "a=int(input(\"enter the percentage score by a student\"))\n",
    "\n",
    "if a>=90:\n",
    "    print(\"A grade\")\n",
    "if a>=75 and a<90:\n",
    "    print(\"B grade\")\n",
    "if a>=65 and a<75:\n",
    "    print(\"C grade\")"
   ]
  },
  {
   "cell_type": "markdown",
   "id": "19914b39",
   "metadata": {},
   "source": [
    "# if else statement"
   ]
  },
  {
   "cell_type": "markdown",
   "id": "667dd08b",
   "metadata": {},
   "source": [
    "write a program to display hello if number enter by a user multiple by 5 else print bye"
   ]
  },
  {
   "cell_type": "code",
   "execution_count": 14,
   "id": "d47f8f2d",
   "metadata": {},
   "outputs": [
    {
     "name": "stdout",
     "output_type": "stream",
     "text": [
      "enter the number23\n",
      "bye\n"
     ]
    }
   ],
   "source": [
    "a=int(input(\"enter the number\"))\n",
    "if a%5==0:\n",
    "    print(\"hello\")\n",
    "else:\n",
    "        print(\"bye\")"
   ]
  },
  {
   "cell_type": "code",
   "execution_count": 15,
   "id": "942d94ce",
   "metadata": {},
   "outputs": [
    {
     "name": "stdout",
     "output_type": "stream",
     "text": [
      "enter the number45\n",
      "hello\n"
     ]
    }
   ],
   "source": [
    "a=int(input(\"enter the number\"))\n",
    "if a%5==0:\n",
    "    print(\"hello\")\n",
    "else:\n",
    "        print(\"bye\")"
   ]
  },
  {
   "cell_type": "code",
   "execution_count": 16,
   "id": "30288dcc",
   "metadata": {},
   "outputs": [
    {
     "name": "stdout",
     "output_type": "stream",
     "text": [
      "enter the number-26\n",
      "negative number\n"
     ]
    }
   ],
   "source": [
    "a=int(input(\"enter the number\"))\n",
    "if a>0:\n",
    "    print(\"positive number\")\n",
    "else:\n",
    "    print(\"negative number\")"
   ]
  },
  {
   "cell_type": "code",
   "execution_count": 17,
   "id": "1869520f",
   "metadata": {},
   "outputs": [
    {
     "name": "stdout",
     "output_type": "stream",
     "text": [
      "enter the number30\n",
      "positive number\n"
     ]
    }
   ],
   "source": [
    "a=int(input(\"enter the number\"))\n",
    "if a>0:\n",
    "    print(\"positive number\")\n",
    "else:\n",
    "    print(\"negative number\")"
   ]
  },
  {
   "cell_type": "markdown",
   "id": "14fc9438",
   "metadata": {},
   "source": [
    "# if-elif-else"
   ]
  },
  {
   "cell_type": "code",
   "execution_count": 18,
   "id": "65f96215",
   "metadata": {},
   "outputs": [
    {
     "ename": "SyntaxError",
     "evalue": "invalid syntax (2189662257.py, line 1)",
     "output_type": "error",
     "traceback": [
      "\u001b[1;36m  Cell \u001b[1;32mIn[18], line 1\u001b[1;36m\u001b[0m\n\u001b[1;33m    accept the city and print its monument\u001b[0m\n\u001b[1;37m           ^\u001b[0m\n\u001b[1;31mSyntaxError\u001b[0m\u001b[1;31m:\u001b[0m invalid syntax\n"
     ]
    }
   ],
   "source": [
    "accept the city and print its monument\n",
    "Delhi-Red Fort\n",
    "agra-taj mahal\n",
    "jaipur-jalmahal\n",
    "orissa-konak temple\n",
    "hyderabad-charminar\n",
    "other-record not found"
   ]
  },
  {
   "cell_type": "code",
   "execution_count": 20,
   "id": "75298987",
   "metadata": {},
   "outputs": [
    {
     "name": "stdout",
     "output_type": "stream",
     "text": [
      "enter the cityDelhi\n",
      "The monument is delhi is redfort\n"
     ]
    }
   ],
   "source": [
    "city=input(\"enter the city\")\n",
    "if city==\"Delhi\":\n",
    "    print(\"The monument is delhi is redfort\")\n",
    "elif city==\"Agra\":\n",
    "    print(\"The monument is Agra is tajmahal\")\n",
    "elif city==\"jaipur\":\n",
    "    print(\"The monument is jaipur is jalmahal\")\n",
    "elif city==\"orissa\":\n",
    "    print(\"The monument is orissa is konak temple\")\n",
    "elif city==\"hyderabad\":\n",
    "    print(\"The monument is hyderabad is charminar\")\n",
    "else:\n",
    "    print(\"no record found\")"
   ]
  },
  {
   "cell_type": "code",
   "execution_count": 1,
   "id": "f9b4c2bc",
   "metadata": {},
   "outputs": [
    {
     "name": "stdout",
     "output_type": "stream",
     "text": [
      "enter the cityagra\n",
      "no record found\n"
     ]
    }
   ],
   "source": [
    "city=input(\"enter the city\")\n",
    "if city==\"Delhi\":\n",
    "    print(\"The monument is delhi is redfort\")\n",
    "elif city==\"Agra\":\n",
    "    print(\"The monument is Agra is tajmahal\")\n",
    "elif city==\"jaipur\":\n",
    "    print(\"The monument is jaipur is jalmahal\")\n",
    "elif city==\"orissa\":\n",
    "    print(\"The monument is orissa is konak temple\")\n",
    "elif city==\"hyderabad\":\n",
    "    print(\"The monument is hyderabad is charminar\")\n",
    "else:\n",
    "    print(\"no record found\")"
   ]
  },
  {
   "cell_type": "code",
   "execution_count": 22,
   "id": "a2954d80",
   "metadata": {},
   "outputs": [
    {
     "name": "stdout",
     "output_type": "stream",
     "text": [
      "enter the citylaknow\n",
      "no record found\n"
     ]
    }
   ],
   "source": [
    "city=input(\"enter the city\")\n",
    "if city==\"Delhi\":\n",
    "    print(\"The monument is delhi is redfort\")\n",
    "elif city==\"Agra\":\n",
    "    print(\"The monument is Agra is tajmahal\")\n",
    "elif city==\"jaipur\":\n",
    "    print(\"The monument is jaipur is jalmahal\")\n",
    "elif city==\"orissa\":\n",
    "    print(\"The monument is orissa is konak temple\")\n",
    "elif city==\"hyderabad\":\n",
    "    print(\"The monument is hyderabad is charminar\")\n",
    "else:\n",
    "    print(\"no record found\")"
   ]
  },
  {
   "cell_type": "markdown",
   "id": "782fd159",
   "metadata": {},
   "source": [
    "# nested if"
   ]
  },
  {
   "cell_type": "code",
   "execution_count": 2,
   "id": "c79947ab",
   "metadata": {},
   "outputs": [
    {
     "name": "stdout",
     "output_type": "stream",
     "text": [
      "i is smaller than 15\n",
      "i is greater than 12 and smaller than 15\n"
     ]
    }
   ],
   "source": [
    "  \n",
    "i = 13\n",
    "  \n",
    "if (i == 13):  \n",
    "    #  First if statement  \n",
    "    if (i < 15):  \n",
    "        print (\"i is smaller than 15\")  \n",
    "          \n",
    "    # Nested - if statement  \n",
    "    # Will only be executed if statement above  \n",
    "    # it is true  \n",
    "    if (i < 12):  \n",
    "        print (\"i is smaller than 12 too\")  \n",
    "    else:  \n",
    "        print (\"i is greater than 12 and smaller than 15\")"
   ]
  },
  {
   "cell_type": "code",
   "execution_count": null,
   "id": "e8e7896e",
   "metadata": {},
   "outputs": [],
   "source": []
  }
 ],
 "metadata": {
  "kernelspec": {
   "display_name": "Python 3 (ipykernel)",
   "language": "python",
   "name": "python3"
  },
  "language_info": {
   "codemirror_mode": {
    "name": "ipython",
    "version": 3
   },
   "file_extension": ".py",
   "mimetype": "text/x-python",
   "name": "python",
   "nbconvert_exporter": "python",
   "pygments_lexer": "ipython3",
   "version": "3.11.5"
  }
 },
 "nbformat": 4,
 "nbformat_minor": 5
}
