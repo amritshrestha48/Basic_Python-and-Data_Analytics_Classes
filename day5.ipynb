{
 "cells": [
  {
   "cell_type": "markdown",
   "id": "5f51c1fc",
   "metadata": {},
   "source": [
    "# day-5"
   ]
  },
  {
   "cell_type": "markdown",
   "id": "3575c439",
   "metadata": {},
   "source": [
    "# concepts of loop - while loop"
   ]
  },
  {
   "cell_type": "markdown",
   "id": "bca833aa",
   "metadata": {},
   "source": [
    " program to display numbers from 1 to 5"
   ]
  },
  {
   "cell_type": "code",
   "execution_count": 2,
   "id": "ef089a12",
   "metadata": {},
   "outputs": [
    {
     "name": "stdout",
     "output_type": "stream",
     "text": [
      "1\n",
      "2\n",
      "3\n",
      "4\n",
      "5\n"
     ]
    }
   ],
   "source": [
    "i=1\n",
    "n=5\n",
    "while i<=n:\n",
    "    print(i)\n",
    "    i=i+1"
   ]
  },
  {
   "cell_type": "markdown",
   "id": "2cde7a6e",
   "metadata": {},
   "source": [
    "enter the value from a user and make a multiplication table till 10"
   ]
  },
  {
   "cell_type": "code",
   "execution_count": 2,
   "id": "b06556fa",
   "metadata": {},
   "outputs": [
    {
     "name": "stdout",
     "output_type": "stream",
     "text": [
      "enter the value9\n",
      "9\n",
      "18\n",
      "27\n",
      "36\n",
      "45\n",
      "54\n",
      "63\n",
      "72\n",
      "81\n",
      "90\n",
      "the multiplication value\n"
     ]
    }
   ],
   "source": [
    "x=int(input(\"enter the value\"))\n",
    "i=1\n",
    "while i<=10:\n",
    "    print(x*i)\n",
    "    i=i+1\n",
    "print(\"the multiplication value\")"
   ]
  },
  {
   "cell_type": "code",
   "execution_count": 3,
   "id": "0fee3661",
   "metadata": {},
   "outputs": [
    {
     "name": "stdout",
     "output_type": "stream",
     "text": [
      "enter the value8\n",
      "8\n",
      "16\n",
      "24\n",
      "32\n",
      "40\n",
      "48\n",
      "56\n",
      "64\n",
      "72\n",
      "80\n"
     ]
    }
   ],
   "source": [
    "x=int(input(\"enter the value\"))\n",
    "i=1\n",
    "while i<=10:\n",
    "    print(x*i)\n",
    "    i=i+1"
   ]
  },
  {
   "cell_type": "markdown",
   "id": "6b7be001",
   "metadata": {},
   "source": [
    "# infinite loop"
   ]
  },
  {
   "cell_type": "code",
   "execution_count": null,
   "id": "42fee6f4",
   "metadata": {},
   "outputs": [],
   "source": [
    "age=32\n",
    "while age>18:\n",
    "    print(\"you can vote\") #its run infinite"
   ]
  },
  {
   "cell_type": "code",
   "execution_count": 17,
   "id": "0889f9db",
   "metadata": {},
   "outputs": [
    {
     "name": "stdout",
     "output_type": "stream",
     "text": [
      "enter the value14\n",
      "14.0\n",
      "7.0\n",
      "4.666666666666667\n",
      "3.5\n",
      "2.8\n",
      "2.3333333333333335\n",
      "2.0\n",
      "1.75\n",
      "1.5555555555555556\n",
      "1.4\n"
     ]
    }
   ],
   "source": [
    "age=int(input(\"enter the value\"))\n",
    "i=1\n",
    "while i<=10:\n",
    "    print(age/i)\n",
    "    i=i+1     #same case if we put age inplace of i it will be infinite loops"
   ]
  },
  {
   "cell_type": "code",
   "execution_count": 18,
   "id": "92efa567",
   "metadata": {},
   "outputs": [
    {
     "name": "stdout",
     "output_type": "stream",
     "text": [
      "hello students\n",
      "hello students\n",
      "hello students\n",
      "hello students\n",
      "hello students\n",
      "hello students\n",
      "hello students\n",
      "hello students\n",
      "hello students\n",
      "hello students\n",
      "hello students\n",
      "hello students\n",
      "hello students\n",
      "hello students\n",
      "hello students\n",
      "hello students\n",
      "hello students\n",
      "hello students\n",
      "hello students\n",
      "hello students\n",
      "hello students\n",
      "hello students\n",
      "hello students\n",
      "hello students\n",
      "hello students\n"
     ]
    }
   ],
   "source": [
    "count=0\n",
    "while(count<25):\n",
    "    count=count+1\n",
    "    print(\"hello students\") #output is 25 times hello students"
   ]
  },
  {
   "cell_type": "code",
   "execution_count": 19,
   "id": "f9051461",
   "metadata": {},
   "outputs": [
    {
     "name": "stdout",
     "output_type": "stream",
     "text": [
      "i love you\n",
      "i love you\n",
      "i love you\n",
      "i love you\n",
      "i love you\n",
      "i love you\n",
      "i love you\n",
      "i love you\n",
      "i love you\n",
      "i love you\n",
      "i love you\n",
      "i love you\n",
      "i love you\n",
      "i love you\n",
      "i love you\n",
      "i love you\n",
      "i love you\n",
      "i love you\n",
      "i love you\n",
      "i love you\n"
     ]
    }
   ],
   "source": [
    "count=0\n",
    "while(count<20):\n",
    "    count=count+1\n",
    "    print(\"i love you\")"
   ]
  },
  {
   "cell_type": "markdown",
   "id": "892c7d5f",
   "metadata": {},
   "source": [
    "# using else statement in the while loop"
   ]
  },
  {
   "cell_type": "code",
   "execution_count": 20,
   "id": "81ea554f",
   "metadata": {},
   "outputs": [
    {
     "name": "stdout",
     "output_type": "stream",
     "text": [
      "i love you\n",
      "i love you\n",
      "i love you\n",
      "i love you\n",
      "i love you\n",
      "i love you\n",
      "i love you\n",
      "i love you\n",
      "i love you\n",
      "i love you\n",
      "this is the else block\n"
     ]
    }
   ],
   "source": [
    "count=0\n",
    "while(count<10):\n",
    "    count=count+1\n",
    "    print(\"i love you\")\n",
    "else:\n",
    "    print(\"this is the else block\")"
   ]
  },
  {
   "cell_type": "markdown",
   "id": "f1b65ec4",
   "metadata": {},
   "source": [
    "# for loop"
   ]
  },
  {
   "cell_type": "code",
   "execution_count": 23,
   "id": "4d5f959b",
   "metadata": {},
   "outputs": [
    {
     "name": "stdout",
     "output_type": "stream",
     "text": [
      "orange\n",
      "apple\n",
      "banana\n"
     ]
    }
   ],
   "source": [
    "fruits=[\"orange\",\"apple\",\"banana\"]\n",
    "for x in fruits:\n",
    "    print(x)"
   ]
  },
  {
   "cell_type": "markdown",
   "id": "69e66927",
   "metadata": {},
   "source": [
    "# looping through a string"
   ]
  },
  {
   "cell_type": "code",
   "execution_count": 24,
   "id": "30e60002",
   "metadata": {},
   "outputs": [
    {
     "name": "stdout",
     "output_type": "stream",
     "text": [
      "b\n",
      "a\n",
      "n\n",
      "a\n",
      "n\n",
      "a\n"
     ]
    }
   ],
   "source": [
    "for x in \"banana\":\n",
    "    print(x)"
   ]
  },
  {
   "cell_type": "code",
   "execution_count": 25,
   "id": "354ab950",
   "metadata": {},
   "outputs": [
    {
     "name": "stdout",
     "output_type": "stream",
     "text": [
      "0\n",
      "1\n",
      "2\n",
      "3\n",
      "4\n",
      "5\n",
      "6\n",
      "7\n",
      "8\n",
      "9\n",
      "10\n",
      "11\n",
      "12\n",
      "13\n",
      "14\n"
     ]
    }
   ],
   "source": [
    "for x in range(15):\n",
    "    print(x)"
   ]
  },
  {
   "cell_type": "code",
   "execution_count": 26,
   "id": "fb9a6c6b",
   "metadata": {},
   "outputs": [
    {
     "name": "stdout",
     "output_type": "stream",
     "text": [
      "4\n",
      "5\n",
      "6\n",
      "7\n",
      "8\n",
      "9\n",
      "10\n",
      "11\n",
      "12\n",
      "13\n",
      "14\n"
     ]
    }
   ],
   "source": [
    "for x in range(4,15):\n",
    "    print(x)"
   ]
  },
  {
   "cell_type": "code",
   "execution_count": null,
   "id": "995b1ec1",
   "metadata": {},
   "outputs": [],
   "source": []
  }
 ],
 "metadata": {
  "kernelspec": {
   "display_name": "Python 3 (ipykernel)",
   "language": "python",
   "name": "python3"
  },
  "language_info": {
   "codemirror_mode": {
    "name": "ipython",
    "version": 3
   },
   "file_extension": ".py",
   "mimetype": "text/x-python",
   "name": "python",
   "nbconvert_exporter": "python",
   "pygments_lexer": "ipython3",
   "version": "3.11.5"
  }
 },
 "nbformat": 4,
 "nbformat_minor": 5
}
