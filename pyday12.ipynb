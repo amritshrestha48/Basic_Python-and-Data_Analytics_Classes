{
 "cells": [
  {
   "cell_type": "markdown",
   "id": "ec6b883f",
   "metadata": {},
   "source": [
    "# Day-12"
   ]
  },
  {
   "cell_type": "markdown",
   "id": "62c9fe24",
   "metadata": {},
   "source": [
    "# Numpy"
   ]
  },
  {
   "cell_type": "markdown",
   "id": "ed5557e0",
   "metadata": {},
   "source": [
    "Numpy(Numerical Python) ia a open source python library working with numerical data,its contains a multidimensional array and matrix data structures."
   ]
  },
  {
   "cell_type": "code",
   "execution_count": 1,
   "id": "5e1a2619",
   "metadata": {},
   "outputs": [],
   "source": [
    "import numpy as np"
   ]
  },
  {
   "cell_type": "code",
   "execution_count": 4,
   "id": "87f3898e",
   "metadata": {},
   "outputs": [
    {
     "name": "stdout",
     "output_type": "stream",
     "text": [
      "[1 2 3 4 5]\n",
      "<class 'numpy.ndarray'>\n"
     ]
    }
   ],
   "source": [
    "arr = np.array([1,2,3,4,5])\n",
    "print(arr)\n",
    "print(type(arr))"
   ]
  },
  {
   "cell_type": "code",
   "execution_count": 5,
   "id": "d28af463",
   "metadata": {},
   "outputs": [
    {
     "name": "stdout",
     "output_type": "stream",
     "text": [
      "[1 2 3 4 5]\n",
      "<class 'numpy.ndarray'>\n"
     ]
    }
   ],
   "source": [
    "aar = np.array((1,2,3,4,5))\n",
    "print(arr)\n",
    "print(type(arr))"
   ]
  },
  {
   "cell_type": "markdown",
   "id": "7293ece1",
   "metadata": {},
   "source": [
    "# Dimensions in array"
   ]
  },
  {
   "cell_type": "code",
   "execution_count": 6,
   "id": "410ac4bb",
   "metadata": {},
   "outputs": [
    {
     "name": "stdout",
     "output_type": "stream",
     "text": [
      "20\n",
      "<class 'numpy.ndarray'>\n",
      "0\n"
     ]
    }
   ],
   "source": [
    "arr = np.array(20)\n",
    "print(arr)\n",
    "print(type(arr))\n",
    "print(arr.ndim)"
   ]
  },
  {
   "cell_type": "markdown",
   "id": "22aa91dd",
   "metadata": {},
   "source": [
    "# 1 Dimension array"
   ]
  },
  {
   "cell_type": "code",
   "execution_count": 7,
   "id": "91f810a2",
   "metadata": {},
   "outputs": [
    {
     "name": "stdout",
     "output_type": "stream",
     "text": [
      "[1 2 3 4 5 6]\n",
      "1\n"
     ]
    }
   ],
   "source": [
    "arr = np.array([1,2,3,4,5,6])\n",
    "print(arr)\n",
    "print(arr.ndim)"
   ]
  },
  {
   "cell_type": "markdown",
   "id": "9f7555d3",
   "metadata": {},
   "source": [
    "# 2 Dimension array"
   ]
  },
  {
   "cell_type": "code",
   "execution_count": 8,
   "id": "fd718cad",
   "metadata": {},
   "outputs": [
    {
     "name": "stdout",
     "output_type": "stream",
     "text": [
      "[[1 2 3]\n",
      " [4 5 6]]\n",
      "2\n"
     ]
    }
   ],
   "source": [
    "arr = np.array([[1,2,3],[4,5,6]])\n",
    "print(arr)\n",
    "print(arr.ndim)"
   ]
  },
  {
   "cell_type": "code",
   "execution_count": 9,
   "id": "59fddd4f",
   "metadata": {},
   "outputs": [
    {
     "name": "stdout",
     "output_type": "stream",
     "text": [
      "[[1.4 2.  3.5]\n",
      " [4.4 5.3 6. ]]\n",
      "2\n"
     ]
    }
   ],
   "source": [
    "arr = np.array([[1.4,2,3.5],[4.4,5.3,6]])\n",
    "print(arr)\n",
    "print(arr.ndim)"
   ]
  },
  {
   "cell_type": "markdown",
   "id": "15d8acbf",
   "metadata": {},
   "source": [
    "# 3 Dimension array"
   ]
  },
  {
   "cell_type": "markdown",
   "id": "9e2aa2b3",
   "metadata": {},
   "source": [
    "An array that has 2-D arrays(matrices) as its elements is called 3-D array."
   ]
  },
  {
   "cell_type": "code",
   "execution_count": 18,
   "id": "c7dd8489",
   "metadata": {},
   "outputs": [
    {
     "name": "stdout",
     "output_type": "stream",
     "text": [
      "[[[1 2 3]\n",
      "  [4 5 6]]\n",
      "\n",
      " [[1 2 3]\n",
      "  [4 5 6]]]\n",
      "3\n"
     ]
    }
   ],
   "source": [
    "arr = np.array([[[1,2,3],[4,5,6]],[[1,2,3],[4,5,6]]])\n",
    "print(arr)\n",
    "print(arr.ndim)"
   ]
  },
  {
   "cell_type": "markdown",
   "id": "2ae4b7a9",
   "metadata": {},
   "source": [
    "# Check Number of Dimensions?"
   ]
  },
  {
   "cell_type": "code",
   "execution_count": 23,
   "id": "ce0b1062",
   "metadata": {},
   "outputs": [
    {
     "name": "stdout",
     "output_type": "stream",
     "text": [
      "0\n",
      "1\n",
      "2\n",
      "3\n"
     ]
    }
   ],
   "source": [
    "a = np.array(50)\n",
    "b = np.array([1,2,3,4,5,6])\n",
    "c = np.array([[1,2,3],[4,5,6]])\n",
    "d = np.array([[[1,2,3],[4,5,6]],[[1,2,3],[4,5,6]]])\n",
    "\n",
    "print(a.ndim)\n",
    "print(b.ndim)\n",
    "print(c.ndim)\n",
    "print(d.ndim)"
   ]
  },
  {
   "cell_type": "markdown",
   "id": "e7ad5c2a",
   "metadata": {},
   "source": [
    "# Higher Dimensional Arrays"
   ]
  },
  {
   "cell_type": "markdown",
   "id": "05645790",
   "metadata": {},
   "source": [
    "An array can have any number of dimensions."
   ]
  },
  {
   "cell_type": "markdown",
   "id": "68dfc700",
   "metadata": {},
   "source": [
    "When the array is created, you can define the number of dimensions by using ndmin argument."
   ]
  },
  {
   "cell_type": "markdown",
   "id": "84bbd442",
   "metadata": {},
   "source": [
    "# Create an array with 5 dimensions and verify that it has 5 dimensions:"
   ]
  },
  {
   "cell_type": "code",
   "execution_count": 27,
   "id": "380596e5",
   "metadata": {},
   "outputs": [
    {
     "name": "stdout",
     "output_type": "stream",
     "text": [
      "[[[[[1 2 3 4]]]]]\n",
      "number of dimensions: 5\n"
     ]
    }
   ],
   "source": [
    "arr = np.array([1,2,3,4], ndmin=5)\n",
    "\n",
    "print(arr)\n",
    "print('number of dimensions:',arr.ndim)"
   ]
  },
  {
   "cell_type": "code",
   "execution_count": 30,
   "id": "786df85f",
   "metadata": {},
   "outputs": [
    {
     "name": "stdout",
     "output_type": "stream",
     "text": [
      "[[[[[1 2 3 4]]]]]\n",
      "5\n"
     ]
    }
   ],
   "source": [
    "a = np.array([[[[[1, 2, 3, 4]]]]])\n",
    "print(a)\n",
    "print(a.ndim)"
   ]
  },
  {
   "cell_type": "markdown",
   "id": "85c3c748",
   "metadata": {},
   "source": [
    "# NumPy Array Indexing"
   ]
  },
  {
   "cell_type": "markdown",
   "id": "c5b9d89c",
   "metadata": {},
   "source": [
    "Array indexing is the same as accessing an array element. "
   ]
  },
  {
   "cell_type": "markdown",
   "id": "ad9f55f1",
   "metadata": {},
   "source": [
    "You can access an array element by referring to its index number."
   ]
  },
  {
   "cell_type": "markdown",
   "id": "a1d08b53",
   "metadata": {},
   "source": [
    "The indexes in NumPy arrays start with 0, meaning that the first element has index 0, and the second has index 1 etc."
   ]
  },
  {
   "cell_type": "markdown",
   "id": "ca6a65d3",
   "metadata": {},
   "source": [
    "# Get the first element from the following array:"
   ]
  },
  {
   "cell_type": "code",
   "execution_count": 3,
   "id": "73d1a8d1",
   "metadata": {},
   "outputs": [
    {
     "name": "stdout",
     "output_type": "stream",
     "text": [
      "1\n"
     ]
    }
   ],
   "source": [
    "import numpy as np\n",
    "arr = np.array([1,2,3,4])\n",
    "print(arr[0])"
   ]
  },
  {
   "cell_type": "markdown",
   "id": "bb44e94b",
   "metadata": {},
   "source": [
    "# Get third and sixth and eighth elements from the following array and add them."
   ]
  },
  {
   "cell_type": "code",
   "execution_count": 4,
   "id": "55a74896",
   "metadata": {},
   "outputs": [
    {
     "name": "stdout",
     "output_type": "stream",
     "text": [
      "the second element is 34\n",
      "the sixth element is 39\n",
      "the eighth element is 90\n",
      "sum of this elements are 163\n"
     ]
    }
   ],
   "source": [
    "m = np.array([41,87,34,56,8,39,23,90,15,10,19,56])\n",
    "print(\"the second element is\",m[2])\n",
    "print(\"the sixth element is\",m[5])\n",
    "print(\"the eighth element is\",m[7])\n",
    "print(\"sum of this elements are\",m[2]+m[5]+m[7])"
   ]
  },
  {
   "cell_type": "markdown",
   "id": "6e779f52",
   "metadata": {},
   "source": [
    "# Access 2-D Arrays"
   ]
  },
  {
   "cell_type": "markdown",
   "id": "d9272e75",
   "metadata": {},
   "source": [
    "To access elements from 2-D arrays we can use comma separated integers representing the dimension and the index of the element."
   ]
  },
  {
   "cell_type": "markdown",
   "id": "7d962983",
   "metadata": {},
   "source": [
    "Think of 2-D arrays like a table with rows and columns, where the dimensions represents the row and the index represents the column."
   ]
  },
  {
   "cell_type": "code",
   "execution_count": 8,
   "id": "16c7a3b4",
   "metadata": {},
   "outputs": [
    {
     "name": "stdout",
     "output_type": "stream",
     "text": [
      "2nd element on 1st row: 20\n"
     ]
    }
   ],
   "source": [
    "arr = np.array([[10,20,30,40,50], [60,70,80,90,100]])\n",
    "print('2nd element on 1st row:', arr[0,1])"
   ]
  },
  {
   "cell_type": "code",
   "execution_count": 9,
   "id": "5104770c",
   "metadata": {},
   "outputs": [
    {
     "name": "stdout",
     "output_type": "stream",
     "text": [
      "4th element on 1st row: 40\n"
     ]
    }
   ],
   "source": [
    "arr = np.array([[10,20,30,40,50], [60,70,80,90,100]])\n",
    "print('4th element on 1st row:', arr[0,3])"
   ]
  },
  {
   "cell_type": "code",
   "execution_count": 10,
   "id": "5b0f8670",
   "metadata": {},
   "outputs": [
    {
     "name": "stdout",
     "output_type": "stream",
     "text": [
      "1st element on 1st row: 60\n"
     ]
    }
   ],
   "source": [
    "arr = np.array([[10,20,30,40,50], [60,70,80,90,100]])\n",
    "print('1st element on 1st row:', arr[1,0])"
   ]
  },
  {
   "cell_type": "code",
   "execution_count": 11,
   "id": "969923dd",
   "metadata": {},
   "outputs": [
    {
     "name": "stdout",
     "output_type": "stream",
     "text": [
      "2nd element on 1st row: 70\n"
     ]
    }
   ],
   "source": [
    "arr = np.array([[10,20,30,40,50], [60,70,80,90,100]])\n",
    "print('2nd element on 1st row:', arr[1,1])"
   ]
  },
  {
   "cell_type": "code",
   "execution_count": 13,
   "id": "0ceb4602",
   "metadata": {},
   "outputs": [
    {
     "name": "stdout",
     "output_type": "stream",
     "text": [
      "last element on 1st row: 100\n"
     ]
    }
   ],
   "source": [
    "arr = np.array([[10,20,30,40,50], [60,70,80,90,100]])\n",
    "print('last element on 1st row:', arr[1,4])"
   ]
  },
  {
   "cell_type": "markdown",
   "id": "b279ca04",
   "metadata": {},
   "source": [
    "# Add the first element of the row 1 and last element of row 2."
   ]
  },
  {
   "cell_type": "code",
   "execution_count": 15,
   "id": "8bb32988",
   "metadata": {},
   "outputs": [
    {
     "name": "stdout",
     "output_type": "stream",
     "text": [
      "First element of 1st row: 10\n",
      "Last element of 2st row: 100\n",
      "sum is 110\n"
     ]
    }
   ],
   "source": [
    "arr = np.array([[10,20,30,40,50], [60,70,80,90,100]])\n",
    "\n",
    "print('First element of 1st row:',arr[0,0])\n",
    "print('Last element of 2st row:',arr[1,4])\n",
    "print(\"sum is\" , arr[0,0]+arr[1,4])"
   ]
  },
  {
   "cell_type": "markdown",
   "id": "f9742fee",
   "metadata": {},
   "source": [
    "# Access 3-D Arrays"
   ]
  },
  {
   "cell_type": "markdown",
   "id": "9f1f28bb",
   "metadata": {},
   "source": [
    "To access elements from 3-D arrays we can use comma separated integers representing the dimensions and the index of the element."
   ]
  },
  {
   "cell_type": "markdown",
   "id": "954661fa",
   "metadata": {},
   "source": [
    "# Access the third element of the second array of the first array:"
   ]
  },
  {
   "cell_type": "code",
   "execution_count": 17,
   "id": "b9f5f2fd",
   "metadata": {},
   "outputs": [
    {
     "name": "stdout",
     "output_type": "stream",
     "text": [
      "6\n"
     ]
    }
   ],
   "source": [
    "arr = np.array([[[1,2,3],[4,5,6]],[[1,2,3],[4,5,8]]])\n",
    "print(arr[0,1,2])"
   ]
  },
  {
   "cell_type": "code",
   "execution_count": 18,
   "id": "b13bbd71",
   "metadata": {},
   "outputs": [
    {
     "name": "stdout",
     "output_type": "stream",
     "text": [
      "8\n"
     ]
    }
   ],
   "source": [
    "arr = np.array([[[1,2,3],[4,5,6]],[[1,2,3],[4,5,8]]])\n",
    "print(arr[1,1,2])"
   ]
  },
  {
   "cell_type": "code",
   "execution_count": 23,
   "id": "1419cf4e",
   "metadata": {},
   "outputs": [
    {
     "name": "stdout",
     "output_type": "stream",
     "text": [
      "2\n"
     ]
    }
   ],
   "source": [
    "arr = np.array([[[1,2,3],[4,5,6]],[[1,2,3],[4,5,8]]])\n",
    "print(arr[1,0,1])"
   ]
  },
  {
   "cell_type": "code",
   "execution_count": 25,
   "id": "37b315ef",
   "metadata": {},
   "outputs": [
    {
     "name": "stdout",
     "output_type": "stream",
     "text": [
      "1\n"
     ]
    }
   ],
   "source": [
    "arr = np.array([[[1,2,3],[4,5,6]],[[1,2,3],[4,5,8]]])\n",
    "print(arr[0,0,0])"
   ]
  },
  {
   "cell_type": "code",
   "execution_count": null,
   "id": "db38ef93",
   "metadata": {},
   "outputs": [],
   "source": []
  }
 ],
 "metadata": {
  "kernelspec": {
   "display_name": "Python 3 (ipykernel)",
   "language": "python",
   "name": "python3"
  },
  "language_info": {
   "codemirror_mode": {
    "name": "ipython",
    "version": 3
   },
   "file_extension": ".py",
   "mimetype": "text/x-python",
   "name": "python",
   "nbconvert_exporter": "python",
   "pygments_lexer": "ipython3",
   "version": "3.11.5"
  }
 },
 "nbformat": 4,
 "nbformat_minor": 5
}
