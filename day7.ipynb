{
 "cells": [
  {
   "cell_type": "markdown",
   "id": "b19921e8",
   "metadata": {},
   "source": [
    "# day-7"
   ]
  },
  {
   "cell_type": "markdown",
   "id": "4b3a6f7a",
   "metadata": {},
   "source": [
    "# Strings in python"
   ]
  },
  {
   "cell_type": "markdown",
   "id": "4040922d",
   "metadata": {},
   "source": [
    "# Creating Strings in python"
   ]
  },
  {
   "cell_type": "code",
   "execution_count": 20,
   "id": "533f77db",
   "metadata": {},
   "outputs": [
    {
     "name": "stdout",
     "output_type": "stream",
     "text": [
      "hello\n"
     ]
    }
   ],
   "source": [
    "a=\"hello\"\n",
    "print(a)"
   ]
  },
  {
   "cell_type": "code",
   "execution_count": 21,
   "id": "16275848",
   "metadata": {},
   "outputs": [
    {
     "name": "stdout",
     "output_type": "stream",
     "text": [
      "hello\n"
     ]
    }
   ],
   "source": [
    "a='hello'\n",
    "print(a)"
   ]
  },
  {
   "cell_type": "code",
   "execution_count": 22,
   "id": "c0089b3c",
   "metadata": {},
   "outputs": [
    {
     "name": "stdout",
     "output_type": "stream",
     "text": [
      "we are learning python and this is the day 7 class\n",
      "<class 'str'>\n"
     ]
    }
   ],
   "source": [
    "b=\"we are learning python and this is the day 7 class\"\n",
    "print(b)\n",
    "print(type(b))"
   ]
  },
  {
   "cell_type": "markdown",
   "id": "5dd0ed59",
   "metadata": {},
   "source": [
    "# Multiline strings"
   ]
  },
  {
   "cell_type": "code",
   "execution_count": 23,
   "id": "246845a8",
   "metadata": {},
   "outputs": [
    {
     "name": "stdout",
     "output_type": "stream",
     "text": [
      "Nepal (English: /nɪˈpɔːl/,[14] /-pɑːl/; Nepali: नेपाल [nepal]), officially the Federal Democratic Republic of Nepal (Nepali: सङ्घीय लोकतान्त्रिक गणतन्त्र नेपाल), is a landlocked country in South Asia. It is mainly situated in the Himalayas, but also includes parts of the Indo-Gangetic Plain. It borders the Tibet Autonomous Region of China to the north, and India in the south, east, and west, while it is narrowly separated from Bangladesh by the Siliguri Corridor, and from Bhutan by the Indian state of Sikkim. Nepal has a diverse geography, including fertile plains, subalpine forested hills, and eight of the world's ten tallest mountains, including Mount Everest, the highest point on Earth. Kathmandu is the nation's capital and the largest city. Nepal is a multi-ethnic, multi-lingual, multi-religious and multi-cultural state, with Nepali as the official language.\n"
     ]
    }
   ],
   "source": [
    "b=\"Nepal (English: /nɪˈpɔːl/,[14] /-pɑːl/; Nepali: नेपाल [nepal]), officially the Federal Democratic Republic of Nepal (Nepali: सङ्घीय लोकतान्त्रिक गणतन्त्र नेपाल), is a landlocked country in South Asia. It is mainly situated in the Himalayas, but also includes parts of the Indo-Gangetic Plain. It borders the Tibet Autonomous Region of China to the north, and India in the south, east, and west, while it is narrowly separated from Bangladesh by the Siliguri Corridor, and from Bhutan by the Indian state of Sikkim. Nepal has a diverse geography, including fertile plains, subalpine forested hills, and eight of the world's ten tallest mountains, including Mount Everest, the highest point on Earth. Kathmandu is the nation's capital and the largest city. Nepal is a multi-ethnic, multi-lingual, multi-religious and multi-cultural state, with Nepali as the official language.\"\n",
    "print( b)"
   ]
  },
  {
   "cell_type": "code",
   "execution_count": 24,
   "id": "1c9f864b",
   "metadata": {},
   "outputs": [
    {
     "name": "stdout",
     "output_type": "stream",
     "text": [
      "Nepal (English: /nɪˈpɔːl/,[14] /-pɑːl/; Nepali: नेपाल [nepal]), officially\n",
      "the Federal Democratic Republic of Nepal (Nepali: सङ्घीय लोकतान्त्रिक गणतन्त्र नेपाल), is a\n",
      "landlocked country in South Asia. It is mainly situated in the Himalayas, \n",
      "but also includes parts of the Indo-Gangetic Plain. It borders the Tibet\n",
      "Autonomous Region of China to the north, and India in the south, east, and west, \n",
      "while it is narrowly separated from Bangladesh by the Siliguri Corridor, and from \n",
      "Bhutan by the Indian state of Sikkim. Nepal has a diverse geography, including fertile plains,\n",
      "subalpine forested hills, and eight of the world's ten tallest mountains, including Mount Everest,\n",
      "the highest point on Earth. Kathmandu is the nation's capital and the largest city. \n",
      "Nepal is a multi-ethnic, multi-lingual,\n",
      "multi-religious and multi-cultural state, with Nepali as the official language.\n"
     ]
    }
   ],
   "source": [
    "c=\"\"\"Nepal (English: /nɪˈpɔːl/,[14] /-pɑːl/; Nepali: नेपाल [nepal]), officially\n",
    "the Federal Democratic Republic of Nepal (Nepali: सङ्घीय लोकतान्त्रिक गणतन्त्र नेपाल), is a\n",
    "landlocked country in South Asia. It is mainly situated in the Himalayas, \n",
    "but also includes parts of the Indo-Gangetic Plain. It borders the Tibet\n",
    "Autonomous Region of China to the north, and India in the south, east, and west, \n",
    "while it is narrowly separated from Bangladesh by the Siliguri Corridor, and from \n",
    "Bhutan by the Indian state of Sikkim. Nepal has a diverse geography, including fertile plains,\n",
    "subalpine forested hills, and eight of the world's ten tallest mountains, including Mount Everest,\n",
    "the highest point on Earth. Kathmandu is the nation's capital and the largest city. \n",
    "Nepal is a multi-ethnic, multi-lingual,\n",
    "multi-religious and multi-cultural state, with Nepali as the official language.\"\"\"\n",
    "print(c)"
   ]
  },
  {
   "cell_type": "code",
   "execution_count": 25,
   "id": "02674685",
   "metadata": {},
   "outputs": [
    {
     "name": "stdout",
     "output_type": "stream",
     "text": [
      "Nepal (English: /nɪˈpɔːl/,[14] /-pɑːl/; Nepali: नेपाल [nepal]), officially the Federal Democratic Republic of Nepal (Nepali: सङ्घीय लोकतान्त्रिक गणतन्त्र नेपाल), is a landlocked country in South Asia. It is mainly situated in the Himalayas, but also includes parts of the Indo-Gangetic Plain. It borders the Tibet Autonomous Region of China to the north, and India in the south, east, and west, while it is narrowly separated from Bangladesh by the Siliguri Corridor, and from Bhutan by the Indian state of Sikkim. Nepal has a diverse geography, including fertile plains, subalpine forested hills, and eight of the world's ten tallest mountains, including Mount Everest, the highest point on Earth. Kathmandu is the nation's capital and the largest city. Nepal is a multi-ethnic, multi-lingual, multi-religious and multi-cultural state, with Nepali as the official language.\n"
     ]
    }
   ],
   "source": [
    "d=\"\"\"Nepal (English: /nɪˈpɔːl/,[14] /-pɑːl/; Nepali: नेपाल [nepal]), officially the Federal Democratic Republic of Nepal (Nepali: सङ्घीय लोकतान्त्रिक गणतन्त्र नेपाल), is a landlocked country in South Asia. It is mainly situated in the Himalayas, but also includes parts of the Indo-Gangetic Plain. It borders the Tibet Autonomous Region of China to the north, and India in the south, east, and west, while it is narrowly separated from Bangladesh by the Siliguri Corridor, and from Bhutan by the Indian state of Sikkim. Nepal has a diverse geography, including fertile plains, subalpine forested hills, and eight of the world's ten tallest mountains, including Mount Everest, the highest point on Earth. Kathmandu is the nation's capital and the largest city. Nepal is a multi-ethnic, multi-lingual, multi-religious and multi-cultural state, with Nepali as the official language.\"\"\"\n",
    "print(d)"
   ]
  },
  {
   "cell_type": "code",
   "execution_count": 26,
   "id": "3dd37400",
   "metadata": {},
   "outputs": [
    {
     "name": "stdout",
     "output_type": "stream",
     "text": [
      "874\n"
     ]
    }
   ],
   "source": [
    "print(len(d))"
   ]
  },
  {
   "cell_type": "markdown",
   "id": "b73bf37c",
   "metadata": {},
   "source": [
    "# Indexing strings"
   ]
  },
  {
   "cell_type": "code",
   "execution_count": 27,
   "id": "2a8a3676",
   "metadata": {},
   "outputs": [
    {
     "name": "stdout",
     "output_type": "stream",
     "text": [
      "n\n"
     ]
    }
   ],
   "source": [
    "a=\"Hello Students\"\n",
    "print(a[11])"
   ]
  },
  {
   "cell_type": "code",
   "execution_count": 28,
   "id": "a2f2b2ea",
   "metadata": {},
   "outputs": [
    {
     "name": "stdout",
     "output_type": "stream",
     "text": [
      "S\n"
     ]
    }
   ],
   "source": [
    "a=\"Hello Students\"\n",
    "print(a[6])"
   ]
  },
  {
   "cell_type": "code",
   "execution_count": 15,
   "id": "8c69a704",
   "metadata": {},
   "outputs": [
    {
     "name": "stdout",
     "output_type": "stream",
     "text": [
      "n\n"
     ]
    }
   ],
   "source": [
    "a=\"Hello Students\"\n",
    "print(a[-3])"
   ]
  },
  {
   "cell_type": "code",
   "execution_count": 16,
   "id": "70601656",
   "metadata": {},
   "outputs": [
    {
     "name": "stdout",
     "output_type": "stream",
     "text": [
      "o\n"
     ]
    }
   ],
   "source": [
    "a=\"how is your studies going on?\"\n",
    "print(a[8])"
   ]
  },
  {
   "cell_type": "code",
   "execution_count": 29,
   "id": "c69c0603",
   "metadata": {},
   "outputs": [
    {
     "name": "stdout",
     "output_type": "stream",
     "text": [
      "s\n"
     ]
    }
   ],
   "source": [
    "a=\"how is your studies going on?\"\n",
    "print(a[12])"
   ]
  },
  {
   "cell_type": "code",
   "execution_count": 30,
   "id": "af98a239",
   "metadata": {},
   "outputs": [
    {
     "name": "stdout",
     "output_type": "stream",
     "text": [
      "?\n"
     ]
    }
   ],
   "source": [
    "a=\"how is your studies going on?\"\n",
    "print(a[-1])"
   ]
  },
  {
   "cell_type": "markdown",
   "id": "cf5319aa",
   "metadata": {},
   "source": [
    "# Slicing of Strings"
   ]
  },
  {
   "cell_type": "code",
   "execution_count": 31,
   "id": "50ff6ff3",
   "metadata": {},
   "outputs": [
    {
     "name": "stdout",
     "output_type": "stream",
     "text": [
      "hello\n"
     ]
    }
   ],
   "source": [
    "s=\"hello students how are you ?\"\n",
    "print(s[0:5])"
   ]
  },
  {
   "cell_type": "code",
   "execution_count": 32,
   "id": "700e69a4",
   "metadata": {},
   "outputs": [
    {
     "name": "stdout",
     "output_type": "stream",
     "text": [
      "students how\n"
     ]
    }
   ],
   "source": [
    "s=\"hello students how are you ?\"\n",
    "print(s[6:18])"
   ]
  },
  {
   "cell_type": "code",
   "execution_count": 33,
   "id": "56bc7235",
   "metadata": {},
   "outputs": [
    {
     "name": "stdout",
     "output_type": "stream",
     "text": [
      "hello students how a\n"
     ]
    }
   ],
   "source": [
    "s=\"hello students how are you ?\"\n",
    "print(s[0:20])"
   ]
  },
  {
   "cell_type": "code",
   "execution_count": 34,
   "id": "fcd599f9",
   "metadata": {},
   "outputs": [
    {
     "name": "stdout",
     "output_type": "stream",
     "text": [
      "hlosuet o \n"
     ]
    }
   ],
   "source": [
    "s=\"hello students how are you ?\" #miss 1 step\n",
    "print(s[0:20:2])"
   ]
  },
  {
   "cell_type": "code",
   "execution_count": 35,
   "id": "5ceb4d4e",
   "metadata": {},
   "outputs": [
    {
     "name": "stdout",
     "output_type": "stream",
     "text": [
      "hlsdth \n"
     ]
    }
   ],
   "source": [
    "s=\"hello students how are you ?\" #miss 2 step\n",
    "print(s[0:20:3])"
   ]
  },
  {
   "cell_type": "code",
   "execution_count": 36,
   "id": "8094f5c0",
   "metadata": {},
   "outputs": [
    {
     "name": "stdout",
     "output_type": "stream",
     "text": [
      "? uoy era woh stneduts olleh\n"
     ]
    }
   ],
   "source": [
    "s=\"hello students how are you ?\"  #reverse\n",
    "print(s[::-1])"
   ]
  },
  {
   "cell_type": "markdown",
   "id": "2a7497ae",
   "metadata": {},
   "source": [
    "# Finding the length of a string"
   ]
  },
  {
   "cell_type": "code",
   "execution_count": 37,
   "id": "705d977d",
   "metadata": {},
   "outputs": [
    {
     "name": "stdout",
     "output_type": "stream",
     "text": [
      "30\n"
     ]
    }
   ],
   "source": [
    "a=\"this is our day 7 python class\"\n",
    "print(len(a))"
   ]
  },
  {
   "cell_type": "code",
   "execution_count": 38,
   "id": "54dae312",
   "metadata": {},
   "outputs": [
    {
     "name": "stdout",
     "output_type": "stream",
     "text": [
      "11\n"
     ]
    }
   ],
   "source": [
    "b=\"hello world\"\n",
    "print(len(b))"
   ]
  },
  {
   "cell_type": "markdown",
   "id": "b8d7c282",
   "metadata": {},
   "source": [
    "# Upper Method"
   ]
  },
  {
   "cell_type": "code",
   "execution_count": 39,
   "id": "d5c0d343",
   "metadata": {},
   "outputs": [
    {
     "name": "stdout",
     "output_type": "stream",
     "text": [
      "HELLO HOW ARE YOU\n"
     ]
    }
   ],
   "source": [
    "a=\"hello how are you\"\n",
    "print(a.upper())"
   ]
  },
  {
   "cell_type": "markdown",
   "id": "1d268fb4",
   "metadata": {},
   "source": [
    "# Lower Method"
   ]
  },
  {
   "cell_type": "code",
   "execution_count": 40,
   "id": "f2428747",
   "metadata": {},
   "outputs": [
    {
     "name": "stdout",
     "output_type": "stream",
     "text": [
      "hello students how are you\n"
     ]
    }
   ],
   "source": [
    "a=\"HELLO STUDENTS HOW ARE YOU\"\n",
    "print(a.lower())"
   ]
  },
  {
   "cell_type": "markdown",
   "id": "8c9f9de9",
   "metadata": {},
   "source": [
    "# Replace Function"
   ]
  },
  {
   "cell_type": "code",
   "execution_count": 41,
   "id": "89c2dd94",
   "metadata": {},
   "outputs": [
    {
     "name": "stdout",
     "output_type": "stream",
     "text": [
      "bye how are you\n"
     ]
    }
   ],
   "source": [
    "a=\"hello how are you\"\n",
    "print(a.replace(\"hello\",\"bye\"))  #hello replace by bye"
   ]
  },
  {
   "cell_type": "code",
   "execution_count": 42,
   "id": "190f3a20",
   "metadata": {},
   "outputs": [
    {
     "name": "stdout",
     "output_type": "stream",
     "text": [
      "hello how are sou\n"
     ]
    }
   ],
   "source": [
    "a=\"hello how are you\"\n",
    "print(a.replace(\"y\",\"s\")) "
   ]
  },
  {
   "cell_type": "code",
   "execution_count": 43,
   "id": "d5935863",
   "metadata": {},
   "outputs": [
    {
     "name": "stdout",
     "output_type": "stream",
     "text": [
      "hello world\n",
      "hello nepal\n"
     ]
    }
   ],
   "source": [
    "b=\"hello world\"\n",
    "print(b)\n",
    "print(b.replace(\"world\",\"nepal\"))"
   ]
  },
  {
   "cell_type": "markdown",
   "id": "f80d6649",
   "metadata": {},
   "source": [
    "# Find Method()"
   ]
  },
  {
   "cell_type": "code",
   "execution_count": 46,
   "id": "e33f1ddd",
   "metadata": {},
   "outputs": [
    {
     "name": "stdout",
     "output_type": "stream",
     "text": [
      "10\n"
     ]
    }
   ],
   "source": [
    "a=\"python is great\"\n",
    "b=a.find(\"g\")\n",
    "print(b)"
   ]
  },
  {
   "cell_type": "code",
   "execution_count": 47,
   "id": "f6b0dbed",
   "metadata": {},
   "outputs": [
    {
     "name": "stdout",
     "output_type": "stream",
     "text": [
      "0\n"
     ]
    }
   ],
   "source": [
    "a=\"python is great\"\n",
    "b=a.find(\"p\")\n",
    "print(b)"
   ]
  },
  {
   "cell_type": "code",
   "execution_count": 52,
   "id": "8d6df34a",
   "metadata": {},
   "outputs": [
    {
     "name": "stdout",
     "output_type": "stream",
     "text": [
      "-1\n"
     ]
    }
   ],
   "source": [
    "a=\"python is great\"\n",
    "b=a.find(\"-t\")\n",
    "print(b)"
   ]
  },
  {
   "cell_type": "code",
   "execution_count": 53,
   "id": "9a8b6afc",
   "metadata": {},
   "outputs": [
    {
     "name": "stdout",
     "output_type": "stream",
     "text": [
      "8\n"
     ]
    }
   ],
   "source": [
    "a=\"python is great\"\n",
    "b=a.find(\"s\")\n",
    "print(b)"
   ]
  },
  {
   "cell_type": "code",
   "execution_count": null,
   "id": "789cf412",
   "metadata": {},
   "outputs": [],
   "source": []
  }
 ],
 "metadata": {
  "kernelspec": {
   "display_name": "Python 3 (ipykernel)",
   "language": "python",
   "name": "python3"
  },
  "language_info": {
   "codemirror_mode": {
    "name": "ipython",
    "version": 3
   },
   "file_extension": ".py",
   "mimetype": "text/x-python",
   "name": "python",
   "nbconvert_exporter": "python",
   "pygments_lexer": "ipython3",
   "version": "3.11.5"
  }
 },
 "nbformat": 4,
 "nbformat_minor": 5
}
