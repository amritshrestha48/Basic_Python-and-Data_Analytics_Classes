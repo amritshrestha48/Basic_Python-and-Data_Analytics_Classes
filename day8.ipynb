{
 "cells": [
  {
   "cell_type": "markdown",
   "id": "10952120",
   "metadata": {},
   "source": [
    "# day-8"
   ]
  },
  {
   "cell_type": "markdown",
   "id": "83a2796c",
   "metadata": {},
   "source": [
    "# List in python"
   ]
  },
  {
   "cell_type": "markdown",
   "id": "d1e78916",
   "metadata": {},
   "source": [
    "# Creating a list"
   ]
  },
  {
   "cell_type": "code",
   "execution_count": 1,
   "id": "96f68533",
   "metadata": {},
   "outputs": [
    {
     "name": "stdout",
     "output_type": "stream",
     "text": [
      "['apple', 'orange', 'banana']\n",
      "<class 'list'>\n"
     ]
    }
   ],
   "source": [
    "mylist=[\"apple\",\"orange\",\"banana\"]\n",
    "print(mylist)\n",
    "print(type(mylist))"
   ]
  },
  {
   "cell_type": "markdown",
   "id": "2d4e0b2d",
   "metadata": {},
   "source": [
    "# Allow Duplicates"
   ]
  },
  {
   "cell_type": "code",
   "execution_count": 3,
   "id": "26a0a173",
   "metadata": {},
   "outputs": [
    {
     "name": "stdout",
     "output_type": "stream",
     "text": [
      "['apple', 'orange', 'banana', 'apple', 'banana', 'apple']\n"
     ]
    }
   ],
   "source": [
    "mylist=[\"apple\",\"orange\",\"banana\",\"apple\",\"banana\",\"apple\"]\n",
    "print(mylist)"
   ]
  },
  {
   "cell_type": "markdown",
   "id": "51f5c39c",
   "metadata": {},
   "source": [
    "# Data types"
   ]
  },
  {
   "cell_type": "code",
   "execution_count": 4,
   "id": "586371ae",
   "metadata": {},
   "outputs": [
    {
     "name": "stdout",
     "output_type": "stream",
     "text": [
      "['apple', 'Orange', 'banana']\n",
      "[2, 5, 8]\n",
      "[7.8, 8.9, 2.56]\n",
      "[True, False, True]\n"
     ]
    }
   ],
   "source": [
    "list1=[\"apple\",\"Orange\",\"banana\"]\n",
    "list2=[2,5,8]\n",
    "list3=[7.8,8.9,2.56]\n",
    "list4=[True,False,True]\n",
    "print(list1)\n",
    "print(list2)\n",
    "print(list3)\n",
    "print(list4)"
   ]
  },
  {
   "cell_type": "code",
   "execution_count": 6,
   "id": "e29e81d1",
   "metadata": {},
   "outputs": [
    {
     "name": "stdout",
     "output_type": "stream",
     "text": [
      "[5, 2.5, True, 'apple', False, 'student', 2, 7.8]\n"
     ]
    }
   ],
   "source": [
    "a=[5,2.5,True,\"apple\",False,\"student\",2,7.8]\n",
    "print(a)"
   ]
  },
  {
   "cell_type": "markdown",
   "id": "0f96fbcf",
   "metadata": {},
   "source": [
    "# List Length"
   ]
  },
  {
   "cell_type": "code",
   "execution_count": 7,
   "id": "0d814c59",
   "metadata": {},
   "outputs": [
    {
     "name": "stdout",
     "output_type": "stream",
     "text": [
      "8\n"
     ]
    }
   ],
   "source": [
    "a=[5,2.5,True,\"apple\",False,\"student\",2,7.8]\n",
    "print(len(a))"
   ]
  },
  {
   "cell_type": "code",
   "execution_count": 8,
   "id": "2c7e36cd",
   "metadata": {},
   "outputs": [
    {
     "name": "stdout",
     "output_type": "stream",
     "text": [
      "10\n"
     ]
    }
   ],
   "source": [
    "b=[15,8,9,3,4,6,7,8,9,25]\n",
    "print(len(b))"
   ]
  },
  {
   "cell_type": "markdown",
   "id": "0a7f5859",
   "metadata": {},
   "source": [
    "# Access Items"
   ]
  },
  {
   "cell_type": "code",
   "execution_count": 9,
   "id": "3369d2e6",
   "metadata": {},
   "outputs": [
    {
     "name": "stdout",
     "output_type": "stream",
     "text": [
      "15\n"
     ]
    }
   ],
   "source": [
    "thislist=[12,15,26,78,25,96,142,52,22,6,5]\n",
    "print(thislist[1])"
   ]
  },
  {
   "cell_type": "code",
   "execution_count": 10,
   "id": "856dd822",
   "metadata": {},
   "outputs": [
    {
     "name": "stdout",
     "output_type": "stream",
     "text": [
      "22\n"
     ]
    }
   ],
   "source": [
    "thislist=[12,15,26,78,25,96,142,52,22,6,5]\n",
    "print(thislist[8])"
   ]
  },
  {
   "cell_type": "code",
   "execution_count": 11,
   "id": "3181bf3b",
   "metadata": {},
   "outputs": [
    {
     "name": "stdout",
     "output_type": "stream",
     "text": [
      "12\n"
     ]
    }
   ],
   "source": [
    "thislist=[12,15,26,78,25,96,142,52,22,6,5]\n",
    "print(thislist[0])"
   ]
  },
  {
   "cell_type": "code",
   "execution_count": 12,
   "id": "6ccc41b8",
   "metadata": {},
   "outputs": [
    {
     "name": "stdout",
     "output_type": "stream",
     "text": [
      "5\n"
     ]
    }
   ],
   "source": [
    "thislist=[12,15,26,78,25,96,142,52,22,6,5]\n",
    "print(thislist[-1])"
   ]
  },
  {
   "cell_type": "code",
   "execution_count": 14,
   "id": "b4e5fbb6",
   "metadata": {},
   "outputs": [
    {
     "name": "stdout",
     "output_type": "stream",
     "text": [
      "78\n"
     ]
    }
   ],
   "source": [
    "thislist=[12,15,26,78,25,96,142,52,22,6,5]\n",
    "print(thislist[-8])"
   ]
  },
  {
   "cell_type": "markdown",
   "id": "75a69fe6",
   "metadata": {},
   "source": [
    "# Slicing of list"
   ]
  },
  {
   "cell_type": "code",
   "execution_count": 16,
   "id": "2b6b3740",
   "metadata": {},
   "outputs": [
    {
     "name": "stdout",
     "output_type": "stream",
     "text": [
      "[12, 15, 26, 78]\n"
     ]
    }
   ],
   "source": [
    "thislist=[12,15,26,78,25,96,142,52,22,6,5]\n",
    "print(thislist[0:4])"
   ]
  },
  {
   "cell_type": "code",
   "execution_count": 17,
   "id": "548a0054",
   "metadata": {},
   "outputs": [
    {
     "name": "stdout",
     "output_type": "stream",
     "text": [
      "[78, 25, 96, 142, 52, 22]\n"
     ]
    }
   ],
   "source": [
    "thislist=[12,15,26,78,25,96,142,52,22,6,5]\n",
    "print(thislist[3:9])"
   ]
  },
  {
   "cell_type": "code",
   "execution_count": 18,
   "id": "efa786a1",
   "metadata": {},
   "outputs": [
    {
     "name": "stdout",
     "output_type": "stream",
     "text": [
      "[12, 26, 25, 142, 22, 5]\n"
     ]
    }
   ],
   "source": [
    "thislist=[12,15,26,78,25,96,142,52,22,6,5]\n",
    "print(thislist[0:11:2])"
   ]
  },
  {
   "cell_type": "markdown",
   "id": "7563c96f",
   "metadata": {},
   "source": [
    "# Change items"
   ]
  },
  {
   "cell_type": "code",
   "execution_count": 19,
   "id": "361cf088",
   "metadata": {},
   "outputs": [
    {
     "name": "stdout",
     "output_type": "stream",
     "text": [
      "['apple', 'strawbery', 'banana']\n"
     ]
    }
   ],
   "source": [
    "thislist=[\"apple\",\"orange\",\"banana\"]\n",
    "thislist[1]=\"strawbery\"\n",
    "print(thislist)"
   ]
  },
  {
   "cell_type": "code",
   "execution_count": 22,
   "id": "25d0526c",
   "metadata": {},
   "outputs": [
    {
     "name": "stdout",
     "output_type": "stream",
     "text": [
      "[12, 14, 'student', 16, 8, 9, -5, -3, 41, -9]\n"
     ]
    }
   ],
   "source": [
    "a=[12,14,15,16,8,9,-5,-3,41,-9]\n",
    "a[2]=\"student\"\n",
    "print(a)"
   ]
  },
  {
   "cell_type": "markdown",
   "id": "4c6329a2",
   "metadata": {},
   "source": [
    "# Change a range of item values"
   ]
  },
  {
   "cell_type": "code",
   "execution_count": 29,
   "id": "624300be",
   "metadata": {},
   "outputs": [
    {
     "name": "stdout",
     "output_type": "stream",
     "text": [
      "[12, 14, 'Hello', 'student', 'how', 8, 9, -5, -3, 41, -9]\n"
     ]
    }
   ],
   "source": [
    "a=[12,14,15,16,8,9,-5,-3,41,-9]\n",
    "a[2:4]=[\"Hello\",\"student\",\"how\"]\n",
    "print(a)"
   ]
  },
  {
   "cell_type": "code",
   "execution_count": 25,
   "id": "4335797f",
   "metadata": {},
   "outputs": [
    {
     "name": "stdout",
     "output_type": "stream",
     "text": [
      "[12, 14, 15, 16, 8, -9]\n"
     ]
    }
   ],
   "source": [
    "a=[12,14,15,16,8]  #add value using append\n",
    "a.append(-9)\n",
    "print(a)"
   ]
  },
  {
   "cell_type": "code",
   "execution_count": 28,
   "id": "cc45c82f",
   "metadata": {},
   "outputs": [
    {
     "name": "stdout",
     "output_type": "stream",
     "text": [
      "[12, 14, 'paper', 'pen', 45, 67]\n"
     ]
    }
   ],
   "source": [
    "m=[12,14,\"paper\",\"student\",\"pen\",45,67] #to remove value\n",
    "m.remove(\"student\")\n",
    "print(m)"
   ]
  },
  {
   "cell_type": "code",
   "execution_count": 30,
   "id": "5faf543d",
   "metadata": {},
   "outputs": [
    {
     "name": "stdout",
     "output_type": "stream",
     "text": [
      "['data', 'python', 5, 4, 3, 2, 1]\n"
     ]
    }
   ],
   "source": [
    "mylist=[1,2,3,4,5,\"python\",\"data\"] #to reverse\n",
    "mylist.reverse()\n",
    "print(mylist)"
   ]
  },
  {
   "cell_type": "code",
   "execution_count": 33,
   "id": "4d05be9e",
   "metadata": {},
   "outputs": [
    {
     "name": "stdout",
     "output_type": "stream",
     "text": [
      "13\n",
      "the sum of a list is 464\n"
     ]
    }
   ],
   "source": [
    "l=[14,15,17,78,-9,23,-8,52,74,89,25,102,-8] #sum of the value on the list\n",
    "print(len(l))\n",
    "a=0\n",
    "for i in range(13):\n",
    "    a=a+l[i]\n",
    "    i=i+1\n",
    "print(\"the sum of a list is\",a)"
   ]
  },
  {
   "cell_type": "markdown",
   "id": "dee7a3ee",
   "metadata": {},
   "source": [
    "# Multiply all the numbers of a list"
   ]
  },
  {
   "cell_type": "code",
   "execution_count": 55,
   "id": "8a239960",
   "metadata": {},
   "outputs": [
    {
     "name": "stdout",
     "output_type": "stream",
     "text": [
      "the multiply of a list is 3628800\n"
     ]
    }
   ],
   "source": [
    "l=[1,2,3,4,5,6,7,8,9,10]\n",
    "a=1\n",
    "for i in range(len(l)):\n",
    "    a=a*l[i]\n",
    "    i=i+1\n",
    "print(\"the multiply of a list is\",a)"
   ]
  },
  {
   "cell_type": "code",
   "execution_count": 4,
   "id": "16e827dc",
   "metadata": {},
   "outputs": [
    {
     "name": "stdout",
     "output_type": "stream",
     "text": [
      "10\n",
      "the multiply of a list is 3628800\n"
     ]
    }
   ],
   "source": [
    "l=[1,2,3,4,5,6,7,8,9,10]\n",
    "print(len(l))\n",
    "a=1\n",
    "for i in range(10):\n",
    "    a=a*l[i]\n",
    "    i=i+1\n",
    "print(\"the multiply of a list is\",a)"
   ]
  },
  {
   "cell_type": "code",
   "execution_count": 5,
   "id": "36390029",
   "metadata": {},
   "outputs": [
    {
     "name": "stdout",
     "output_type": "stream",
     "text": [
      "3628800\n"
     ]
    }
   ],
   "source": [
    "l=[1,2,3,4,5,6,7,8,9,10]\n",
    "a=1\n",
    "for x in l:\n",
    "    a=a*x\n",
    "print(a)"
   ]
  },
  {
   "cell_type": "code",
   "execution_count": null,
   "id": "cbea6a9a",
   "metadata": {},
   "outputs": [],
   "source": []
  }
 ],
 "metadata": {
  "kernelspec": {
   "display_name": "Python 3 (ipykernel)",
   "language": "python",
   "name": "python3"
  },
  "language_info": {
   "codemirror_mode": {
    "name": "ipython",
    "version": 3
   },
   "file_extension": ".py",
   "mimetype": "text/x-python",
   "name": "python",
   "nbconvert_exporter": "python",
   "pygments_lexer": "ipython3",
   "version": "3.11.5"
  }
 },
 "nbformat": 4,
 "nbformat_minor": 5
}
