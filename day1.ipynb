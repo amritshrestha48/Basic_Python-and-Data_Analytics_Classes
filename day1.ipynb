{
 "cells": [
  {
   "cell_type": "markdown",
   "id": "b04cc199",
   "metadata": {},
   "source": [
    "# First install the IDE software, I choose Anaconda - Jupiter notebook."
   ]
  },
  {
   "cell_type": "markdown",
   "id": "6494f5b5",
   "metadata": {},
   "source": [
    "# Day-1"
   ]
  },
  {
   "cell_type": "markdown",
   "id": "0ca6029c",
   "metadata": {},
   "source": [
    "# this is the first class of python"
   ]
  },
  {
   "cell_type": "markdown",
   "id": "324cadb4",
   "metadata": {},
   "source": [
    "we are going to write our first program"
   ]
  },
  {
   "cell_type": "code",
   "execution_count": 4,
   "id": "419e184d",
   "metadata": {},
   "outputs": [
    {
     "name": "stdout",
     "output_type": "stream",
     "text": [
      "hello world. this is an amazing python class\n"
     ]
    }
   ],
   "source": [
    "print(\"hello world. this is an amazing python class\")"
   ]
  },
  {
   "cell_type": "code",
   "execution_count": 5,
   "id": "7ea29a0d",
   "metadata": {},
   "outputs": [
    {
     "name": "stdout",
     "output_type": "stream",
     "text": [
      "5\n"
     ]
    }
   ],
   "source": [
    "print(2+3)"
   ]
  },
  {
   "cell_type": "markdown",
   "id": "64cd7a75",
   "metadata": {},
   "source": [
    "# python comments"
   ]
  },
  {
   "cell_type": "code",
   "execution_count": 6,
   "id": "891a88bf",
   "metadata": {},
   "outputs": [
    {
     "name": "stdout",
     "output_type": "stream",
     "text": [
      "hello world\n"
     ]
    }
   ],
   "source": [
    "#this is comment\n",
    "print(\"hello world\")"
   ]
  },
  {
   "cell_type": "code",
   "execution_count": 7,
   "id": "a6288cf3",
   "metadata": {},
   "outputs": [
    {
     "name": "stdout",
     "output_type": "stream",
     "text": [
      "hello world\n"
     ]
    }
   ],
   "source": [
    "print(\"hello world\")#this is comment"
   ]
  },
  {
   "cell_type": "markdown",
   "id": "f354334e",
   "metadata": {},
   "source": [
    "# multiline comment"
   ]
  },
  {
   "cell_type": "code",
   "execution_count": 8,
   "id": "26e1d1f6",
   "metadata": {},
   "outputs": [
    {
     "name": "stdout",
     "output_type": "stream",
     "text": [
      "5\n"
     ]
    }
   ],
   "source": [
    "#this is comment 1\n",
    "#this is comment 2\n",
    "#this is comment 3\n",
    "\n",
    "print(2+3)"
   ]
  },
  {
   "cell_type": "code",
   "execution_count": 13,
   "id": "846fd147",
   "metadata": {},
   "outputs": [
    {
     "name": "stdout",
     "output_type": "stream",
     "text": [
      "11\n"
     ]
    }
   ],
   "source": [
    "\"\"\" this is our first class of python\"\"\"\n",
    "print(5+6)"
   ]
  },
  {
   "cell_type": "code",
   "execution_count": null,
   "id": "8ae3b6b6",
   "metadata": {},
   "outputs": [],
   "source": []
  }
 ],
 "metadata": {
  "kernelspec": {
   "display_name": "Python 3 (ipykernel)",
   "language": "python",
   "name": "python3"
  },
  "language_info": {
   "codemirror_mode": {
    "name": "ipython",
    "version": 3
   },
   "file_extension": ".py",
   "mimetype": "text/x-python",
   "name": "python",
   "nbconvert_exporter": "python",
   "pygments_lexer": "ipython3",
   "version": "3.11.5"
  }
 },
 "nbformat": 4,
 "nbformat_minor": 5
}
