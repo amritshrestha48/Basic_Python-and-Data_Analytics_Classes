{
 "cells": [
  {
   "cell_type": "markdown",
   "id": "3c6b340b",
   "metadata": {},
   "source": [
    "# Day-10"
   ]
  },
  {
   "cell_type": "markdown",
   "id": "a86d2cb5",
   "metadata": {},
   "source": [
    "# Dictionary"
   ]
  },
  {
   "cell_type": "code",
   "execution_count": 41,
   "id": "40db382f",
   "metadata": {},
   "outputs": [
    {
     "name": "stdout",
     "output_type": "stream",
     "text": [
      "{'id': '123ab', 'color': 'Black', 'year': 1964}\n"
     ]
    }
   ],
   "source": [
    " a={\n",
    "     \"id\":\"123ab\",\n",
    "     \"color\":\"Black\",\n",
    "     \"year\":1964\n",
    "   }\n",
    "print(a)"
   ]
  },
  {
   "cell_type": "code",
   "execution_count": 42,
   "id": "d610dc51",
   "metadata": {},
   "outputs": [
    {
     "name": "stdout",
     "output_type": "stream",
     "text": [
      "{'id': '123ab', 'color': 'Black', 'year': 1964}\n",
      "<class 'dict'>\n"
     ]
    }
   ],
   "source": [
    "print(a)\n",
    "print(type(a))"
   ]
  },
  {
   "cell_type": "code",
   "execution_count": 43,
   "id": "9245fad5",
   "metadata": {},
   "outputs": [],
   "source": [
    " a={\n",
    "     \"id\":\"123ab\",\n",
    "     \"color\":\"Black\",\n",
    "     \"year\":1964\n",
    "   }"
   ]
  },
  {
   "cell_type": "code",
   "execution_count": 44,
   "id": "7f56daa9",
   "metadata": {},
   "outputs": [
    {
     "name": "stdout",
     "output_type": "stream",
     "text": [
      "Black\n"
     ]
    }
   ],
   "source": [
    "print(a[\"color\"])"
   ]
  },
  {
   "cell_type": "code",
   "execution_count": 45,
   "id": "690296b5",
   "metadata": {},
   "outputs": [],
   "source": [
    " a={\n",
    "     \"id\":\"123ab\",\n",
    "     \"color\":\"Black\",\n",
    "     \"year\":1964,\n",
    "     \"year\":2000  #no dublicate\n",
    "   }"
   ]
  },
  {
   "cell_type": "code",
   "execution_count": 46,
   "id": "0f940bf6",
   "metadata": {},
   "outputs": [
    {
     "name": "stdout",
     "output_type": "stream",
     "text": [
      "{'id': '123ab', 'color': 'Black', 'year': 2000}\n"
     ]
    }
   ],
   "source": [
    "print(a)"
   ]
  },
  {
   "cell_type": "markdown",
   "id": "270dba0f",
   "metadata": {},
   "source": [
    "# Dictionary Length"
   ]
  },
  {
   "cell_type": "code",
   "execution_count": 47,
   "id": "0b64e92c",
   "metadata": {},
   "outputs": [],
   "source": [
    " a={\n",
    "     \"id\":\"123ab\",\n",
    "     \"color\":\"Black\",\n",
    "     \"year\":1964\n",
    "   }"
   ]
  },
  {
   "cell_type": "code",
   "execution_count": 48,
   "id": "efa4c090",
   "metadata": {},
   "outputs": [
    {
     "name": "stdout",
     "output_type": "stream",
     "text": [
      "3\n"
     ]
    }
   ],
   "source": [
    "print(len(a))"
   ]
  },
  {
   "cell_type": "code",
   "execution_count": 49,
   "id": "43aee9a8",
   "metadata": {},
   "outputs": [
    {
     "name": "stdout",
     "output_type": "stream",
     "text": [
      "{'id': '123ab', 'color': 'Black', 'year': 1964, 'a': [1, 2, 3, 4, 5], 'b': (2.2, 2.3, 3.2, 5.2), 'c': False}\n"
     ]
    }
   ],
   "source": [
    " dict={\n",
    "     \"id\":\"123ab\",\n",
    "     \"color\":\"Black\",\n",
    "     \"year\":1964,\n",
    "     'a':[1,2,3,4,5],\n",
    "     'b':(2.2,2.3,3.2,5.2),\n",
    "     'c':False\n",
    "     \n",
    "   }\n",
    "print(dict)"
   ]
  },
  {
   "cell_type": "markdown",
   "id": "56a9a59f",
   "metadata": {},
   "source": [
    "# Dict Constructor"
   ]
  },
  {
   "cell_type": "code",
   "execution_count": 53,
   "id": "b1bce533",
   "metadata": {},
   "outputs": [
    {
     "ename": "SyntaxError",
     "evalue": "invalid syntax (1034502743.py, line 1)",
     "output_type": "error",
     "traceback": [
      "\u001b[1;36m  Cell \u001b[1;32mIn[53], line 1\u001b[1;36m\u001b[0m\n\u001b[1;33m    a=dict{\u001b[0m\n\u001b[1;37m          ^\u001b[0m\n\u001b[1;31mSyntaxError\u001b[0m\u001b[1;31m:\u001b[0m invalid syntax\n"
     ]
    }
   ],
   "source": [
    "a=dict{\n",
    "    \"name\":\"Amrit\",\n",
    "    \"age\":21,\n",
    "    \"country\":\"Nepal\"}\n",
    "print(a)\n",
    "print(type(a))"
   ]
  },
  {
   "cell_type": "code",
   "execution_count": 1,
   "id": "7bae7e01",
   "metadata": {},
   "outputs": [
    {
     "name": "stdout",
     "output_type": "stream",
     "text": [
      "{'name': 'Amrit', 'age': 21, 'country': 'Nepal'}\n",
      "<class 'dict'>\n"
     ]
    }
   ],
   "source": [
    "a=dict(name=\"Amrit\",age=21,country=\"Nepal\")\n",
    "print(a)\n",
    "print(type(a))"
   ]
  },
  {
   "cell_type": "code",
   "execution_count": 2,
   "id": "93a7d209",
   "metadata": {},
   "outputs": [
    {
     "name": "stdout",
     "output_type": "stream",
     "text": [
      "Amrit\n"
     ]
    }
   ],
   "source": [
    "a={\"name\":\"Amrit\",\"age\":21,\"country\":\"Nepal\"}  #access the value\n",
    "print(a['name'])"
   ]
  },
  {
   "cell_type": "code",
   "execution_count": 3,
   "id": "f432ba24",
   "metadata": {},
   "outputs": [
    {
     "name": "stdout",
     "output_type": "stream",
     "text": [
      "Amrit\n"
     ]
    }
   ],
   "source": [
    "a={\"name\":\"Amrit\",\"age\":21,\"country\":\"Nepal\"}\n",
    "print(a.get(\"name\"))"
   ]
  },
  {
   "cell_type": "code",
   "execution_count": 8,
   "id": "69aaccd3",
   "metadata": {},
   "outputs": [],
   "source": [
    "a={\"name\":\"Amrit\",\"age\":21,\"country\":\"Nepal\"} #access keys\n"
   ]
  },
  {
   "cell_type": "code",
   "execution_count": 9,
   "id": "b651189c",
   "metadata": {},
   "outputs": [],
   "source": [
    "x=a.keys()"
   ]
  },
  {
   "cell_type": "code",
   "execution_count": 10,
   "id": "42ab2caa",
   "metadata": {},
   "outputs": [
    {
     "data": {
      "text/plain": [
       "dict_keys(['name', 'age', 'country'])"
      ]
     },
     "execution_count": 10,
     "metadata": {},
     "output_type": "execute_result"
    }
   ],
   "source": [
    "x"
   ]
  },
  {
   "cell_type": "code",
   "execution_count": 11,
   "id": "96fc9551",
   "metadata": {},
   "outputs": [
    {
     "data": {
      "text/plain": [
       "dict_values(['Amrit', 21, 'Nepal'])"
      ]
     },
     "execution_count": 11,
     "metadata": {},
     "output_type": "execute_result"
    }
   ],
   "source": [
    "a={\"name\":\"Amrit\",\"age\":21,\"country\":\"Nepal\"} #access values\n",
    "y=a.values()\n",
    "y"
   ]
  },
  {
   "cell_type": "code",
   "execution_count": 12,
   "id": "111593e5",
   "metadata": {},
   "outputs": [
    {
     "name": "stdout",
     "output_type": "stream",
     "text": [
      "{'name': 'Amrit', 'age': 40, 'country': 'Nepal'}\n"
     ]
    }
   ],
   "source": [
    "a={\"name\":\"Amrit\",\n",
    "   \"age\":21,\n",
    "   \"country\":\"Nepal\"}   #change the value\n",
    "a[\"age\"]=40\n",
    "print(a)"
   ]
  },
  {
   "cell_type": "code",
   "execution_count": 14,
   "id": "89890f69",
   "metadata": {},
   "outputs": [
    {
     "name": "stdout",
     "output_type": "stream",
     "text": [
      "{'name': 'Amrit', 'age': 21, 'country': 'Nepal', 'gender': 'male', 'mail id': 'shresthaamrit979@gmail.com'}\n"
     ]
    }
   ],
   "source": [
    "a={\"name\":\"Amrit\",\n",
    "   \"age\":21,\n",
    "   \"country\":\"Nepal\",\n",
    "   \"gender\":\"male\"}\n",
    "a.update({\"mail id\":\"shresthaamrit979@gmail.com\"})  #update a value\n",
    "print(a)"
   ]
  },
  {
   "cell_type": "code",
   "execution_count": 16,
   "id": "6c98eefd",
   "metadata": {},
   "outputs": [
    {
     "name": "stdout",
     "output_type": "stream",
     "text": [
      "{'name': 'Amrit', 'country': 'Nepal', 'gender': 'male'}\n"
     ]
    }
   ],
   "source": [
    "a={\"name\":\"Amrit\",\n",
    "   \"age\":21,\n",
    "   \"country\":\"Nepal\",\n",
    "   \"gender\":\"male\"}\n",
    "a.pop(\"age\")        #Delete a value\n",
    "print(a)"
   ]
  },
  {
   "cell_type": "code",
   "execution_count": 20,
   "id": "a0af3130",
   "metadata": {},
   "outputs": [
    {
     "name": "stdout",
     "output_type": "stream",
     "text": [
      "{'name': 'Amrit', 'country': 'Nepal', 'gender': 'male'}\n"
     ]
    }
   ],
   "source": [
    "a={\"name\":\"Amrit\",\n",
    "   \"age\":21,\n",
    "   \"country\":\"Nepal\",\n",
    "   \"gender\":\"male\"}\n",
    "del a[\"age\"]   #delete a value\n",
    "print(a)"
   ]
  },
  {
   "cell_type": "code",
   "execution_count": 21,
   "id": "f67ce2a3",
   "metadata": {},
   "outputs": [
    {
     "ename": "NameError",
     "evalue": "name 'a' is not defined",
     "output_type": "error",
     "traceback": [
      "\u001b[1;31m---------------------------------------------------------------------------\u001b[0m",
      "\u001b[1;31mNameError\u001b[0m                                 Traceback (most recent call last)",
      "Cell \u001b[1;32mIn[21], line 6\u001b[0m\n\u001b[0;32m      1\u001b[0m a\u001b[38;5;241m=\u001b[39m{\u001b[38;5;124m\"\u001b[39m\u001b[38;5;124mname\u001b[39m\u001b[38;5;124m\"\u001b[39m:\u001b[38;5;124m\"\u001b[39m\u001b[38;5;124mAmrit\u001b[39m\u001b[38;5;124m\"\u001b[39m,\n\u001b[0;32m      2\u001b[0m    \u001b[38;5;124m\"\u001b[39m\u001b[38;5;124mage\u001b[39m\u001b[38;5;124m\"\u001b[39m:\u001b[38;5;241m21\u001b[39m,\n\u001b[0;32m      3\u001b[0m    \u001b[38;5;124m\"\u001b[39m\u001b[38;5;124mcountry\u001b[39m\u001b[38;5;124m\"\u001b[39m:\u001b[38;5;124m\"\u001b[39m\u001b[38;5;124mNepal\u001b[39m\u001b[38;5;124m\"\u001b[39m,\n\u001b[0;32m      4\u001b[0m    \u001b[38;5;124m\"\u001b[39m\u001b[38;5;124mgender\u001b[39m\u001b[38;5;124m\"\u001b[39m:\u001b[38;5;124m\"\u001b[39m\u001b[38;5;124mmale\u001b[39m\u001b[38;5;124m\"\u001b[39m}\n\u001b[0;32m      5\u001b[0m \u001b[38;5;28;01mdel\u001b[39;00m a   \u001b[38;5;66;03m#delete a dictionary (error occur due to dictionary delete fron memory)\u001b[39;00m\n\u001b[1;32m----> 6\u001b[0m \u001b[38;5;28mprint\u001b[39m(a)\n",
      "\u001b[1;31mNameError\u001b[0m: name 'a' is not defined"
     ]
    }
   ],
   "source": [
    "a={\"name\":\"Amrit\",\n",
    "   \"age\":21,\n",
    "   \"country\":\"Nepal\",\n",
    "   \"gender\":\"male\"}\n",
    "del a   #delete a dictionary (error occur due to dictionary delete fron memory)\n",
    "print(a)"
   ]
  },
  {
   "cell_type": "code",
   "execution_count": 22,
   "id": "101b1d59",
   "metadata": {},
   "outputs": [
    {
     "name": "stdout",
     "output_type": "stream",
     "text": [
      "{}\n"
     ]
    }
   ],
   "source": [
    "a={\"name\":\"Amrit\",\n",
    "   \"age\":21,\n",
    "   \"country\":\"Nepal\",\n",
    "   \"gender\":\"male\"}\n",
    "a.clear()       #clear a values and keys\n",
    "print(a)"
   ]
  },
  {
   "cell_type": "code",
   "execution_count": 23,
   "id": "bd3a3af2",
   "metadata": {},
   "outputs": [
    {
     "name": "stdout",
     "output_type": "stream",
     "text": [
      "{}\n",
      "<class 'dict'>\n"
     ]
    }
   ],
   "source": [
    "a={\"name\":\"Amrit\",\n",
    "   \"age\":21,\n",
    "   \"country\":\"Nepal\",\n",
    "   \"gender\":\"male\"}\n",
    "a.clear()       #clear a values and keys\n",
    "print(a)\n",
    "print(type(a))"
   ]
  },
  {
   "cell_type": "code",
   "execution_count": 25,
   "id": "2f6ba8da",
   "metadata": {},
   "outputs": [
    {
     "name": "stdout",
     "output_type": "stream",
     "text": [
      "{'name': 'Amrit', '1': 21, 'country': 'Nepal', 'gender': 'male'}\n",
      "<class 'dict'>\n"
     ]
    }
   ],
   "source": [
    "a={\"name\":\"Amrit\",\n",
    "   \"1\":21,     #use key as a integer\n",
    "   \"country\":\"Nepal\",\n",
    "   \"gender\":\"male\"}\n",
    "print(a)\n",
    "print(type(a))"
   ]
  },
  {
   "cell_type": "markdown",
   "id": "49afcb6f",
   "metadata": {},
   "source": [
    "# Contradiction"
   ]
  },
  {
   "cell_type": "code",
   "execution_count": 26,
   "id": "0e6c6af5",
   "metadata": {},
   "outputs": [
    {
     "name": "stdout",
     "output_type": "stream",
     "text": [
      "{1: 10, 2: 20, 3: 30, 4: 40, 5: 50, 6: 60}\n"
     ]
    }
   ],
   "source": [
    "dict1 ={1:10, 2:20}\n",
    "dict2 ={3:30, 4:40}\n",
    "dict3 ={5:50, 6:60}\n",
    "dict4 ={}\n",
    "for d in (dict1,dict2,dict3,): dict4.update(d)\n",
    "print(dict4)"
   ]
  },
  {
   "cell_type": "markdown",
   "id": "8f0d1ea9",
   "metadata": {},
   "source": [
    "# key=key^2"
   ]
  },
  {
   "cell_type": "code",
   "execution_count": 35,
   "id": "f889c462",
   "metadata": {},
   "outputs": [
    {
     "name": "stdout",
     "output_type": "stream",
     "text": [
      "{0: 0}\n",
      "{0: 0, 1: 1}\n",
      "{0: 0, 1: 1, 2: 4}\n",
      "{0: 0, 1: 1, 2: 4, 3: 9}\n",
      "{0: 0, 1: 1, 2: 4, 3: 9, 4: 16}\n",
      "{0: 0, 1: 1, 2: 4, 3: 9, 4: 16, 5: 25}\n",
      "{0: 0, 1: 1, 2: 4, 3: 9, 4: 16, 5: 25, 6: 36}\n",
      "{0: 0, 1: 1, 2: 4, 3: 9, 4: 16, 5: 25, 6: 36, 7: 49}\n",
      "{0: 0, 1: 1, 2: 4, 3: 9, 4: 16, 5: 25, 6: 36, 7: 49, 8: 64}\n",
      "{0: 0, 1: 1, 2: 4, 3: 9, 4: 16, 5: 25, 6: 36, 7: 49, 8: 64, 9: 81}\n",
      "{0: 0, 1: 1, 2: 4, 3: 9, 4: 16, 5: 25, 6: 36, 7: 49, 8: 64, 9: 81, 10: 100}\n",
      "{0: 0, 1: 1, 2: 4, 3: 9, 4: 16, 5: 25, 6: 36, 7: 49, 8: 64, 9: 81, 10: 100, 11: 121}\n",
      "{0: 0, 1: 1, 2: 4, 3: 9, 4: 16, 5: 25, 6: 36, 7: 49, 8: 64, 9: 81, 10: 100, 11: 121, 12: 144}\n",
      "{0: 0, 1: 1, 2: 4, 3: 9, 4: 16, 5: 25, 6: 36, 7: 49, 8: 64, 9: 81, 10: 100, 11: 121, 12: 144, 13: 169}\n",
      "{0: 0, 1: 1, 2: 4, 3: 9, 4: 16, 5: 25, 6: 36, 7: 49, 8: 64, 9: 81, 10: 100, 11: 121, 12: 144, 13: 169, 14: 196}\n",
      "{0: 0, 1: 1, 2: 4, 3: 9, 4: 16, 5: 25, 6: 36, 7: 49, 8: 64, 9: 81, 10: 100, 11: 121, 12: 144, 13: 169, 14: 196, 15: 225}\n"
     ]
    }
   ],
   "source": [
    "d=dict()\n",
    "for x in range(16):\n",
    "    d[x]=x**2   #use double * for square value\n",
    "    print(d)"
   ]
  },
  {
   "cell_type": "markdown",
   "id": "5478324f",
   "metadata": {},
   "source": [
    "# Check whether a given key already exists in a dictionary?"
   ]
  },
  {
   "cell_type": "code",
   "execution_count": 8,
   "id": "5a7bc859",
   "metadata": {},
   "outputs": [
    {
     "name": "stdout",
     "output_type": "stream",
     "text": [
      "key is present in the dictionary\n",
      "key isnot present in the dictionary\n"
     ]
    }
   ],
   "source": [
    "d={1:10, 2:20, 3:30, 4:40, 5:50, 6:60}\n",
    "def is_key_present(x):\n",
    "    if x in d:\n",
    "        print('key is present in the dictionary')\n",
    "    else:\n",
    "        print('key isnot present in the dictionary')\n",
    "is_key_present(5)\n",
    "is_key_present(9)"
   ]
  },
  {
   "cell_type": "code",
   "execution_count": 12,
   "id": "caacfb81",
   "metadata": {},
   "outputs": [
    {
     "name": "stdout",
     "output_type": "stream",
     "text": [
      "key is present in the dictionary\n"
     ]
    }
   ],
   "source": [
    "is_key_present(4)"
   ]
  },
  {
   "cell_type": "code",
   "execution_count": 14,
   "id": "f603ce43",
   "metadata": {},
   "outputs": [
    {
     "name": "stdout",
     "output_type": "stream",
     "text": [
      "key isnot present in the dictionary\n"
     ]
    }
   ],
   "source": [
    "is_key_present(50)"
   ]
  },
  {
   "cell_type": "code",
   "execution_count": 15,
   "id": "422e09af",
   "metadata": {},
   "outputs": [
    {
     "name": "stdout",
     "output_type": "stream",
     "text": [
      "key isnot present in the dictionary\n"
     ]
    }
   ],
   "source": [
    "is_key_present(10)"
   ]
  },
  {
   "cell_type": "code",
   "execution_count": null,
   "id": "24902977",
   "metadata": {},
   "outputs": [],
   "source": []
  }
 ],
 "metadata": {
  "kernelspec": {
   "display_name": "Python 3 (ipykernel)",
   "language": "python",
   "name": "python3"
  },
  "language_info": {
   "codemirror_mode": {
    "name": "ipython",
    "version": 3
   },
   "file_extension": ".py",
   "mimetype": "text/x-python",
   "name": "python",
   "nbconvert_exporter": "python",
   "pygments_lexer": "ipython3",
   "version": "3.11.5"
  }
 },
 "nbformat": 4,
 "nbformat_minor": 5
}
