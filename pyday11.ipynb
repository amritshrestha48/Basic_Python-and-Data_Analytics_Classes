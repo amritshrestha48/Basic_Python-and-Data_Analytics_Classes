{
 "cells": [
  {
   "cell_type": "markdown",
   "id": "9a2bde00",
   "metadata": {},
   "source": [
    "# Day-11"
   ]
  },
  {
   "cell_type": "markdown",
   "id": "268c29a6",
   "metadata": {},
   "source": [
    "# Sets in python"
   ]
  },
  {
   "cell_type": "markdown",
   "id": "307cf1e3",
   "metadata": {},
   "source": [
    "# Creating a set"
   ]
  },
  {
   "cell_type": "code",
   "execution_count": 52,
   "id": "09dad4c0",
   "metadata": {},
   "outputs": [
    {
     "name": "stdout",
     "output_type": "stream",
     "text": [
      "{'ball', 'animals', 'cat'}\n",
      "<class 'set'>\n"
     ]
    }
   ],
   "source": [
    "a={\"animals\",\"ball\",\"cat\"}\n",
    "print(a)\n",
    "print(type(a))"
   ]
  },
  {
   "cell_type": "markdown",
   "id": "c6ac46db",
   "metadata": {},
   "source": [
    "# Set items are unordered"
   ]
  },
  {
   "cell_type": "code",
   "execution_count": 53,
   "id": "aab91fff",
   "metadata": {},
   "outputs": [
    {
     "ename": "TypeError",
     "evalue": "'set' object is not subscriptable",
     "output_type": "error",
     "traceback": [
      "\u001b[1;31m---------------------------------------------------------------------------\u001b[0m",
      "\u001b[1;31mTypeError\u001b[0m                                 Traceback (most recent call last)",
      "Cell \u001b[1;32mIn[53], line 2\u001b[0m\n\u001b[0;32m      1\u001b[0m a\u001b[38;5;241m=\u001b[39m{\u001b[38;5;124m\"\u001b[39m\u001b[38;5;124manimals\u001b[39m\u001b[38;5;124m\"\u001b[39m,\u001b[38;5;124m\"\u001b[39m\u001b[38;5;124mball\u001b[39m\u001b[38;5;124m\"\u001b[39m,\u001b[38;5;124m\"\u001b[39m\u001b[38;5;124mcat\u001b[39m\u001b[38;5;124m\"\u001b[39m}  \u001b[38;5;66;03m#order not support\u001b[39;00m\n\u001b[1;32m----> 2\u001b[0m \u001b[38;5;28mprint\u001b[39m(a[\u001b[38;5;241m0\u001b[39m])\n",
      "\u001b[1;31mTypeError\u001b[0m: 'set' object is not subscriptable"
     ]
    }
   ],
   "source": [
    "a={\"animals\",\"ball\",\"cat\"}  #order not support\n",
    "print(a[0])"
   ]
  },
  {
   "cell_type": "markdown",
   "id": "1a9a4d7c",
   "metadata": {},
   "source": [
    "# Duplicates ,not allowed"
   ]
  },
  {
   "cell_type": "code",
   "execution_count": 54,
   "id": "4b6c770c",
   "metadata": {},
   "outputs": [
    {
     "name": "stdout",
     "output_type": "stream",
     "text": [
      "{'ball', 'animals', 'cat'}\n"
     ]
    }
   ],
   "source": [
    "a={\"animals\",\"ball\",\"cat\",\"animals\",\"ball\",\"ball\"}  #duplicate not allow so output will be singlar\n",
    "print(a)"
   ]
  },
  {
   "cell_type": "markdown",
   "id": "145d5c2b",
   "metadata": {},
   "source": [
    "# True and 1 is consider the same value."
   ]
  },
  {
   "cell_type": "code",
   "execution_count": 55,
   "id": "f1960bc9",
   "metadata": {},
   "outputs": [
    {
     "name": "stdout",
     "output_type": "stream",
     "text": [
      "{1, 2, 3, 'animals', 'cat', 'ball'}\n"
     ]
    }
   ],
   "source": [
    "a={\"animals\",\"ball\",\"cat\",\"animals\",\"ball\",\"ball\",1,2,3,True}\n",
    "print(a)"
   ]
  },
  {
   "cell_type": "markdown",
   "id": "cec3986b",
   "metadata": {},
   "source": [
    "# Get the length of a set"
   ]
  },
  {
   "cell_type": "code",
   "execution_count": 56,
   "id": "94c31323",
   "metadata": {},
   "outputs": [
    {
     "name": "stdout",
     "output_type": "stream",
     "text": [
      "{1, 2, 3, 'animals', 'cat', 'ball'}\n",
      "6\n"
     ]
    }
   ],
   "source": [
    "a={\"animals\",\"ball\",\"cat\",\"animals\",\"ball\",\"ball\",1,2,3,True}\n",
    "print(a)\n",
    "print(len(a))"
   ]
  },
  {
   "cell_type": "markdown",
   "id": "bda4aed4",
   "metadata": {},
   "source": [
    "# Sets items-Data Types"
   ]
  },
  {
   "cell_type": "code",
   "execution_count": 57,
   "id": "0567aa14",
   "metadata": {},
   "outputs": [
    {
     "name": "stdout",
     "output_type": "stream",
     "text": [
      "{1, 2, 3, 4} {1, 2, 3, 4, 5} {'a', 'b', 'c'} {False, True}\n"
     ]
    }
   ],
   "source": [
    "x1={1,2,3,4}\n",
    "x2={1,2,2,3,4,1,4,5}\n",
    "x3={\"a\",\"b\",\"c\"}\n",
    "x4={True,False,True}\n",
    "print(x1,x2,x3,x4)"
   ]
  },
  {
   "cell_type": "code",
   "execution_count": 58,
   "id": "4f689a22",
   "metadata": {},
   "outputs": [
    {
     "name": "stdout",
     "output_type": "stream",
     "text": [
      "(1, 2, -5, 2, 1, 2.2, True, 'student', 3.2, (6+2j), 'apple')\n"
     ]
    }
   ],
   "source": [
    "m=(1,2,-5,2,1,2.2,True,\"student\",3.2,6+2j,\"apple\")\n",
    "print(m)"
   ]
  },
  {
   "cell_type": "code",
   "execution_count": 59,
   "id": "6dd6429f",
   "metadata": {},
   "outputs": [
    {
     "ename": "TypeError",
     "evalue": "unhashable type: 'list'",
     "output_type": "error",
     "traceback": [
      "\u001b[1;31m---------------------------------------------------------------------------\u001b[0m",
      "\u001b[1;31mTypeError\u001b[0m                                 Traceback (most recent call last)",
      "Cell \u001b[1;32mIn[59], line 1\u001b[0m\n\u001b[1;32m----> 1\u001b[0m x5\u001b[38;5;241m=\u001b[39m{[\u001b[38;5;241m1\u001b[39m,\u001b[38;5;241m2\u001b[39m,\u001b[38;5;241m3\u001b[39m,\u001b[38;5;241m4\u001b[39m,\u001b[38;5;241m5\u001b[39m]}  \u001b[38;5;66;03m#not possible list because sets not allow order.\u001b[39;00m\n\u001b[0;32m      2\u001b[0m \u001b[38;5;28mprint\u001b[39m(x5)\n",
      "\u001b[1;31mTypeError\u001b[0m: unhashable type: 'list'"
     ]
    }
   ],
   "source": [
    "x5={[1,2,3,4,5]}  #not possible list because sets not allow order.\n",
    "print(x5)"
   ]
  },
  {
   "cell_type": "code",
   "execution_count": 60,
   "id": "853eb154",
   "metadata": {},
   "outputs": [
    {
     "name": "stdout",
     "output_type": "stream",
     "text": [
      "{(1, 2, 3, 4, 5)}\n"
     ]
    }
   ],
   "source": [
    "x6={(1,2,3,4,5)} #tuples are inmuteable so it is hashable.\n",
    "print(x6)"
   ]
  },
  {
   "cell_type": "code",
   "execution_count": 61,
   "id": "9745c4ae",
   "metadata": {},
   "outputs": [
    {
     "ename": "TypeError",
     "evalue": "unhashable type: 'dict'",
     "output_type": "error",
     "traceback": [
      "\u001b[1;31m---------------------------------------------------------------------------\u001b[0m",
      "\u001b[1;31mTypeError\u001b[0m                                 Traceback (most recent call last)",
      "Cell \u001b[1;32mIn[61], line 1\u001b[0m\n\u001b[1;32m----> 1\u001b[0m X7\u001b[38;5;241m=\u001b[39m{{\u001b[38;5;124m\"\u001b[39m\u001b[38;5;124ma\u001b[39m\u001b[38;5;124m\"\u001b[39m:\u001b[38;5;241m1\u001b[39m,\u001b[38;5;124m\"\u001b[39m\u001b[38;5;124mb\u001b[39m\u001b[38;5;124m\"\u001b[39m:\u001b[38;5;241m2\u001b[39m,\u001b[38;5;124m\"\u001b[39m\u001b[38;5;124mc\u001b[39m\u001b[38;5;124m\"\u001b[39m:\u001b[38;5;241m3\u001b[39m}}  \u001b[38;5;66;03m#not possible dictionary because sets not allow order.\u001b[39;00m\n\u001b[0;32m      2\u001b[0m \u001b[38;5;28mprint\u001b[39m(x7)\n",
      "\u001b[1;31mTypeError\u001b[0m: unhashable type: 'dict'"
     ]
    }
   ],
   "source": [
    "X7={{\"a\":1,\"b\":2,\"c\":3}}  #not possible dictionary because sets not allow order.\n",
    "print(x7)"
   ]
  },
  {
   "cell_type": "markdown",
   "id": "3c49dcab",
   "metadata": {},
   "source": [
    "# Nesting isnot a property of set"
   ]
  },
  {
   "cell_type": "code",
   "execution_count": 62,
   "id": "89e07fbd",
   "metadata": {},
   "outputs": [
    {
     "ename": "TypeError",
     "evalue": "unhashable type: 'set'",
     "output_type": "error",
     "traceback": [
      "\u001b[1;31m---------------------------------------------------------------------------\u001b[0m",
      "\u001b[1;31mTypeError\u001b[0m                                 Traceback (most recent call last)",
      "Cell \u001b[1;32mIn[62], line 1\u001b[0m\n\u001b[1;32m----> 1\u001b[0m a\u001b[38;5;241m=\u001b[39m{{\u001b[38;5;241m1\u001b[39m,\u001b[38;5;241m2\u001b[39m,\u001b[38;5;241m3\u001b[39m},{\u001b[38;5;241m4\u001b[39m,\u001b[38;5;241m5\u001b[39m,\u001b[38;5;241m6\u001b[39m}}\n\u001b[0;32m      2\u001b[0m \u001b[38;5;28mprint\u001b[39m(a)\n",
      "\u001b[1;31mTypeError\u001b[0m: unhashable type: 'set'"
     ]
    }
   ],
   "source": [
    "a={{1,2,3},{4,5,6}}\n",
    "print(a)"
   ]
  },
  {
   "cell_type": "markdown",
   "id": "f8decc8f",
   "metadata": {},
   "source": [
    "# The Set() Constructor"
   ]
  },
  {
   "cell_type": "code",
   "execution_count": 63,
   "id": "6eb9b0c4",
   "metadata": {},
   "outputs": [
    {
     "name": "stdout",
     "output_type": "stream",
     "text": [
      "{'beta', 'gamma', 'alpha'}\n",
      "<class 'set'>\n"
     ]
    }
   ],
   "source": [
    "thisset = set((\"alpha\",\"beta\",\"gamma\"))\n",
    "print(thisset)\n",
    "print(type(thisset))"
   ]
  },
  {
   "cell_type": "markdown",
   "id": "94f6aa1d",
   "metadata": {},
   "source": [
    "# Creating Empty Set"
   ]
  },
  {
   "cell_type": "code",
   "execution_count": 64,
   "id": "df4f70ff",
   "metadata": {},
   "outputs": [
    {
     "name": "stdout",
     "output_type": "stream",
     "text": [
      "{}\n",
      "<class 'dict'>\n"
     ]
    }
   ],
   "source": [
    "a = {}\n",
    "print(a)\n",
    "print(type(a))"
   ]
  },
  {
   "cell_type": "code",
   "execution_count": 65,
   "id": "d34ea56d",
   "metadata": {},
   "outputs": [
    {
     "name": "stdout",
     "output_type": "stream",
     "text": [
      "set()\n",
      "<class 'set'>\n"
     ]
    }
   ],
   "source": [
    "empty =set()\n",
    "print(empty)\n",
    "print(type(empty))"
   ]
  },
  {
   "cell_type": "markdown",
   "id": "ac1ebf05",
   "metadata": {},
   "source": [
    "# Acess items"
   ]
  },
  {
   "cell_type": "code",
   "execution_count": 66,
   "id": "b94c7c2a",
   "metadata": {},
   "outputs": [
    {
     "name": "stdout",
     "output_type": "stream",
     "text": [
      "a\n",
      "b\n",
      "d\n",
      "c\n"
     ]
    }
   ],
   "source": [
    "a={\"a\",\"b\",\"c\",\"d\"}\n",
    "\n",
    "for x in a:\n",
    "    print(x)"
   ]
  },
  {
   "cell_type": "markdown",
   "id": "a8c4be1a",
   "metadata": {},
   "source": [
    "# Check if \"item\" is present in the set"
   ]
  },
  {
   "cell_type": "code",
   "execution_count": 67,
   "id": "28a4a302",
   "metadata": {},
   "outputs": [
    {
     "name": "stdout",
     "output_type": "stream",
     "text": [
      "True\n"
     ]
    }
   ],
   "source": [
    "a={\"data\",\"python\",\"code\"}\n",
    "\n",
    "print(\"code\" in a)"
   ]
  },
  {
   "cell_type": "code",
   "execution_count": 68,
   "id": "bb1418a6",
   "metadata": {},
   "outputs": [
    {
     "name": "stdout",
     "output_type": "stream",
     "text": [
      "False\n"
     ]
    }
   ],
   "source": [
    "a={\"data\",\"python\",\"code\"}\n",
    "\n",
    "print(\"analyst\" in a)"
   ]
  },
  {
   "cell_type": "code",
   "execution_count": 69,
   "id": "48017db7",
   "metadata": {},
   "outputs": [
    {
     "name": "stdout",
     "output_type": "stream",
     "text": [
      "True\n"
     ]
    }
   ],
   "source": [
    "a={\"data\",\"python\",\"code\"}\n",
    "\n",
    "print(\"data\" in a)"
   ]
  },
  {
   "cell_type": "markdown",
   "id": "c010c122",
   "metadata": {},
   "source": [
    "# Add items"
   ]
  },
  {
   "cell_type": "code",
   "execution_count": 70,
   "id": "e6ee2661",
   "metadata": {},
   "outputs": [
    {
     "name": "stdout",
     "output_type": "stream",
     "text": [
      "{100, 'd', 'c', 'a', 'b'}\n"
     ]
    }
   ],
   "source": [
    "x = {\"a\",\"b\",\"c\",\"d\"}\n",
    "x.add(100)\n",
    "print(x)"
   ]
  },
  {
   "cell_type": "markdown",
   "id": "0b1d679f",
   "metadata": {},
   "source": [
    "# Update"
   ]
  },
  {
   "cell_type": "code",
   "execution_count": 71,
   "id": "a2ab66fa",
   "metadata": {},
   "outputs": [
    {
     "name": "stdout",
     "output_type": "stream",
     "text": [
      "{70, 40, 10, 'data', 'python', 50, 20, 'code', 60, 30}\n"
     ]
    }
   ],
   "source": [
    "x={\"data\",\"python\",\"code\"}\n",
    "y={10,20,30,40,50,60,70}\n",
    "\n",
    "x.update(y)\n",
    "print(x)"
   ]
  },
  {
   "cell_type": "markdown",
   "id": "dec7ba4d",
   "metadata": {},
   "source": [
    "# Remove set items"
   ]
  },
  {
   "cell_type": "code",
   "execution_count": 72,
   "id": "36e4ef90",
   "metadata": {},
   "outputs": [
    {
     "name": "stdout",
     "output_type": "stream",
     "text": [
      "{70, 10, 'data', 'python', 50, 20, 60, 30}\n"
     ]
    }
   ],
   "source": [
    "n={70, 40, 10, 'data', 'python', 50, 20, 'code', 60, 30}\n",
    "n.remove(40)\n",
    "n.remove(\"code\")\n",
    "print(n)"
   ]
  },
  {
   "cell_type": "code",
   "execution_count": 73,
   "id": "51553c34",
   "metadata": {},
   "outputs": [
    {
     "name": "stdout",
     "output_type": "stream",
     "text": [
      "{40, 10, 'data', 'python', 50, 20, 'code', 60, 30}\n"
     ]
    }
   ],
   "source": [
    "n={70, 40, 10, 'data', 'python', 50, 20, 'code', 60, 30}\n",
    "x= n.pop()  #random remove\n",
    "print(n)"
   ]
  },
  {
   "cell_type": "code",
   "execution_count": 74,
   "id": "180fd9c3",
   "metadata": {},
   "outputs": [
    {
     "name": "stdout",
     "output_type": "stream",
     "text": [
      "set()\n"
     ]
    }
   ],
   "source": [
    "n={70, 40, 10, 'data', 'python', 50, 20, 'code', 60, 30}\n",
    "n.clear()  #clear the values\n",
    "print(n)"
   ]
  },
  {
   "cell_type": "code",
   "execution_count": 75,
   "id": "8cc5279a",
   "metadata": {},
   "outputs": [
    {
     "ename": "NameError",
     "evalue": "name 'n' is not defined",
     "output_type": "error",
     "traceback": [
      "\u001b[1;31m---------------------------------------------------------------------------\u001b[0m",
      "\u001b[1;31mNameError\u001b[0m                                 Traceback (most recent call last)",
      "Cell \u001b[1;32mIn[75], line 3\u001b[0m\n\u001b[0;32m      1\u001b[0m n\u001b[38;5;241m=\u001b[39m{\u001b[38;5;241m70\u001b[39m, \u001b[38;5;241m40\u001b[39m, \u001b[38;5;241m10\u001b[39m, \u001b[38;5;124m'\u001b[39m\u001b[38;5;124mdata\u001b[39m\u001b[38;5;124m'\u001b[39m, \u001b[38;5;124m'\u001b[39m\u001b[38;5;124mpython\u001b[39m\u001b[38;5;124m'\u001b[39m, \u001b[38;5;241m50\u001b[39m, \u001b[38;5;241m20\u001b[39m, \u001b[38;5;124m'\u001b[39m\u001b[38;5;124mcode\u001b[39m\u001b[38;5;124m'\u001b[39m, \u001b[38;5;241m60\u001b[39m, \u001b[38;5;241m30\u001b[39m}\n\u001b[0;32m      2\u001b[0m \u001b[38;5;28;01mdel\u001b[39;00m n  \u001b[38;5;66;03m#error occur due to all the data remove from the memory.\u001b[39;00m\n\u001b[1;32m----> 3\u001b[0m \u001b[38;5;28mprint\u001b[39m(n)\n",
      "\u001b[1;31mNameError\u001b[0m: name 'n' is not defined"
     ]
    }
   ],
   "source": [
    "n={70, 40, 10, 'data', 'python', 50, 20, 'code', 60, 30}\n",
    "del n  #error occur due to all the data remove from the memory.\n",
    "print(n)"
   ]
  },
  {
   "cell_type": "markdown",
   "id": "8cd16d9c",
   "metadata": {},
   "source": [
    "# Join two sets"
   ]
  },
  {
   "cell_type": "code",
   "execution_count": 76,
   "id": "215f2eb2",
   "metadata": {},
   "outputs": [
    {
     "name": "stdout",
     "output_type": "stream",
     "text": [
      "{1, 2, 3, 'c', 'a', 'b'}\n"
     ]
    }
   ],
   "source": [
    "x={\"a\",\"b\",\"c\"}\n",
    "y={1,2,3}\n",
    "z=x.union(y)\n",
    "print(z)"
   ]
  },
  {
   "cell_type": "markdown",
   "id": "e37d4a3c",
   "metadata": {},
   "source": [
    "# Write a python program to find the maximum and minimum values."
   ]
  },
  {
   "cell_type": "code",
   "execution_count": 77,
   "id": "05c5055e",
   "metadata": {},
   "outputs": [
    {
     "name": "stdout",
     "output_type": "stream",
     "text": [
      "orginal set elements\n",
      "{32, 5, 7, 8, 10, 48, 21, 23}\n",
      "maximum value of the set is\n",
      "48\n",
      "minimum value of the set is\n",
      "5\n"
     ]
    }
   ],
   "source": [
    "setn={21,48,5,7,8,10,23,32}\n",
    "print(\"orginal set elements\")\n",
    "print(setn)\n",
    "print(\"maximum value of the set is\")\n",
    "print(max(setn))\n",
    "print(\"minimum value of the set is\")\n",
    "print(min(setn))"
   ]
  },
  {
   "cell_type": "markdown",
   "id": "052fa402",
   "metadata": {},
   "source": [
    "# Return a new set of identical items from two sets."
   ]
  },
  {
   "cell_type": "code",
   "execution_count": 78,
   "id": "f99b44ea",
   "metadata": {},
   "outputs": [
    {
     "name": "stdout",
     "output_type": "stream",
     "text": [
      "{40, 50, 30}\n"
     ]
    }
   ],
   "source": [
    "set1={10,20,30,40,50}\n",
    "set2={30,40,50,60,70}\n",
    "\n",
    "print(set1.intersection(set2))"
   ]
  },
  {
   "cell_type": "markdown",
   "id": "06fbee5f",
   "metadata": {},
   "source": [
    "# Put a value in a set and convert into list and tuple."
   ]
  },
  {
   "cell_type": "code",
   "execution_count": 84,
   "id": "03b9c6cf",
   "metadata": {},
   "outputs": [
    {
     "name": "stdout",
     "output_type": "stream",
     "text": [
      "<class 'set'>\n",
      "['nepal', 'usa', 'india']\n",
      "('nepal', 'usa', 'india')\n"
     ]
    }
   ],
   "source": [
    "x={\"nepal\",\"india\",\"usa\"}\n",
    "print(type(x))\n",
    "\n",
    "y=list(x)\n",
    "print(y)\n",
    "\n",
    "z=tuple(x)\n",
    "print(z)"
   ]
  },
  {
   "cell_type": "markdown",
   "id": "6eef0026",
   "metadata": {},
   "source": [
    "# Put a value in a set and find the length,maximum,minumum and convert this set into list and tuple."
   ]
  },
  {
   "cell_type": "code",
   "execution_count": 86,
   "id": "a0d39fac",
   "metadata": {},
   "outputs": [
    {
     "name": "stdout",
     "output_type": "stream",
     "text": [
      "<class 'set'>\n",
      "8\n",
      "orginal set elements\n",
      "{32, 5, 7, 8, 10, 48, 21, 23}\n",
      "maximum value of the set is\n",
      "48\n",
      "minimum value of the set is\n",
      "5\n",
      "[32, 5, 7, 8, 10, 48, 21, 23]\n",
      "(32, 5, 7, 8, 10, 48, 21, 23)\n"
     ]
    }
   ],
   "source": [
    "setn={21,48,5,7,8,10,23,32}\n",
    "print(type(setn))\n",
    "print(len(setn))\n",
    "print(\"orginal set elements\")\n",
    "print(setn)\n",
    "print(\"maximum value of the set is\")\n",
    "print(max(setn))\n",
    "print(\"minimum value of the set is\")\n",
    "print(min(setn))\n",
    "\n",
    "y=list(setn)\n",
    "print(y)\n",
    "\n",
    "z=tuple(setn)\n",
    "print(z)"
   ]
  },
  {
   "cell_type": "code",
   "execution_count": null,
   "id": "8ebbad32",
   "metadata": {},
   "outputs": [],
   "source": []
  }
 ],
 "metadata": {
  "kernelspec": {
   "display_name": "Python 3 (ipykernel)",
   "language": "python",
   "name": "python3"
  },
  "language_info": {
   "codemirror_mode": {
    "name": "ipython",
    "version": 3
   },
   "file_extension": ".py",
   "mimetype": "text/x-python",
   "name": "python",
   "nbconvert_exporter": "python",
   "pygments_lexer": "ipython3",
   "version": "3.11.5"
  }
 },
 "nbformat": 4,
 "nbformat_minor": 5
}
