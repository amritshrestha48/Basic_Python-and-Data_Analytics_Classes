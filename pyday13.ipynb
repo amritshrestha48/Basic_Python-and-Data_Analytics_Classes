{
 "cells": [
  {
   "cell_type": "markdown",
   "id": "5d9f52f1",
   "metadata": {},
   "source": [
    "# Day-13"
   ]
  },
  {
   "cell_type": "markdown",
   "id": "9cf4a509",
   "metadata": {},
   "source": [
    "# NumPy part 2"
   ]
  },
  {
   "cell_type": "markdown",
   "id": "2e888f04",
   "metadata": {},
   "source": [
    "# Slicing of numPy arrays"
   ]
  },
  {
   "cell_type": "code",
   "execution_count": 9,
   "id": "9250744e",
   "metadata": {},
   "outputs": [],
   "source": [
    "import numpy as np"
   ]
  },
  {
   "cell_type": "code",
   "execution_count": 10,
   "id": "34fb0551",
   "metadata": {},
   "outputs": [
    {
     "name": "stdout",
     "output_type": "stream",
     "text": [
      "[2 3 4 5]\n"
     ]
    }
   ],
   "source": [
    "arr=np.array([1,2,3,4,5,6,7])\n",
    "print(arr[1:5])"
   ]
  },
  {
   "cell_type": "code",
   "execution_count": 19,
   "id": "d044d387",
   "metadata": {},
   "outputs": [
    {
     "name": "stdout",
     "output_type": "stream",
     "text": [
      "[1 3 5 7]\n"
     ]
    }
   ],
   "source": [
    "arr=np.array([1,2,3,4,5,6,7])\n",
    "print(arr[::2])"
   ]
  },
  {
   "cell_type": "markdown",
   "id": "c0b94ff3",
   "metadata": {},
   "source": [
    "# Slicing in 2D array"
   ]
  },
  {
   "cell_type": "code",
   "execution_count": 20,
   "id": "e417aed9",
   "metadata": {},
   "outputs": [
    {
     "name": "stdout",
     "output_type": "stream",
     "text": [
      "[70 80 90]\n"
     ]
    }
   ],
   "source": [
    "a=np.array([[10,20,30,40,50],[60,70,80,90,100]])\n",
    "print(a[1,1:4])"
   ]
  },
  {
   "cell_type": "code",
   "execution_count": 21,
   "id": "31623676",
   "metadata": {},
   "outputs": [
    {
     "name": "stdout",
     "output_type": "stream",
     "text": [
      "[10 20 30 40]\n"
     ]
    }
   ],
   "source": [
    "a=np.array([[10,20,30,40,50],[60,70,80,90,100]])\n",
    "print(a[0,0:4])"
   ]
  },
  {
   "cell_type": "code",
   "execution_count": 47,
   "id": "b26a5840",
   "metadata": {},
   "outputs": [
    {
     "name": "stdout",
     "output_type": "stream",
     "text": [
      "[2]\n"
     ]
    }
   ],
   "source": [
    "arr = np.array([[[1,2,3,4],[10,20,30,40],[5,6,7,8]]])     #3D \n",
    "print(arr[0:,0,1])"
   ]
  },
  {
   "cell_type": "code",
   "execution_count": 67,
   "id": "149c7fca",
   "metadata": {},
   "outputs": [
    {
     "name": "stdout",
     "output_type": "stream",
     "text": [
      "[10 20 30 40]\n"
     ]
    }
   ],
   "source": [
    "arr = np.array([[[1,2,3,4],[10,20,30,40],[5,6,7,8]]])     #3D \n",
    "print(arr[0, 1, :])"
   ]
  },
  {
   "cell_type": "code",
   "execution_count": 68,
   "id": "3c7ebbb4",
   "metadata": {},
   "outputs": [
    {
     "name": "stdout",
     "output_type": "stream",
     "text": [
      "[5 6 7 8]\n"
     ]
    }
   ],
   "source": [
    "arr = np.array([[[1,2,3,4],[10,20,30,40],[5,6,7,8]]])     #3D \n",
    "print(arr[0, 2, :])"
   ]
  },
  {
   "cell_type": "markdown",
   "id": "80acf1d2",
   "metadata": {},
   "source": [
    "# Checking the data type of an array."
   ]
  },
  {
   "cell_type": "code",
   "execution_count": 63,
   "id": "bc599f8d",
   "metadata": {},
   "outputs": [
    {
     "name": "stdout",
     "output_type": "stream",
     "text": [
      "int32\n"
     ]
    }
   ],
   "source": [
    "arr=np.array([1,2,3,4])\n",
    "print(arr.dtype)"
   ]
  },
  {
   "cell_type": "code",
   "execution_count": 23,
   "id": "a7755373",
   "metadata": {},
   "outputs": [
    {
     "name": "stdout",
     "output_type": "stream",
     "text": [
      "<U6\n"
     ]
    }
   ],
   "source": [
    "arr=np.array(['animal','bat','cat'])\n",
    "print(arr.dtype)"
   ]
  },
  {
   "cell_type": "markdown",
   "id": "1b9ae316",
   "metadata": {},
   "source": [
    "# Creating arrays with a defined data type"
   ]
  },
  {
   "cell_type": "code",
   "execution_count": 32,
   "id": "de8086e9",
   "metadata": {},
   "outputs": [
    {
     "name": "stdout",
     "output_type": "stream",
     "text": [
      "[b'1' b'2' b'3' b'4']\n",
      "|S1\n"
     ]
    }
   ],
   "source": [
    "arr = np.array([1,2,3,4], dtype = 'S')\n",
    "print(arr)\n",
    "print(arr.dtype)"
   ]
  },
  {
   "cell_type": "markdown",
   "id": "8986813c",
   "metadata": {},
   "source": [
    "# Create an array with data types 4 bytes integer."
   ]
  },
  {
   "cell_type": "code",
   "execution_count": 35,
   "id": "63142b63",
   "metadata": {},
   "outputs": [
    {
     "name": "stdout",
     "output_type": "stream",
     "text": [
      "[1 2 3 4]\n",
      "int32\n"
     ]
    }
   ],
   "source": [
    "arr = np.array([1,2,3,4], dtype='i4')\n",
    "print(arr)\n",
    "print(arr.dtype)"
   ]
  },
  {
   "cell_type": "markdown",
   "id": "ce5e0ce7",
   "metadata": {},
   "source": [
    "# Numpy array Shape"
   ]
  },
  {
   "cell_type": "markdown",
   "id": "804aaa25",
   "metadata": {},
   "source": [
    "the shape of an array is the number of an elements in each dimension."
   ]
  },
  {
   "cell_type": "markdown",
   "id": "0d3db280",
   "metadata": {},
   "source": [
    "# print the shape of 2D array"
   ]
  },
  {
   "cell_type": "code",
   "execution_count": 36,
   "id": "912911e6",
   "metadata": {},
   "outputs": [
    {
     "name": "stdout",
     "output_type": "stream",
     "text": [
      "(2, 4)\n"
     ]
    }
   ],
   "source": [
    "arr = np.array([[1,2,3,4],[5,6,7,8]])\n",
    "print(arr.shape)"
   ]
  },
  {
   "cell_type": "code",
   "execution_count": 45,
   "id": "259c5ada",
   "metadata": {},
   "outputs": [
    {
     "name": "stdout",
     "output_type": "stream",
     "text": [
      "(1, 3, 4)\n"
     ]
    }
   ],
   "source": [
    "arr = np.array([[[1,2,3,4],[10,20,30,40],[5,6,7,8]]])     #3D \n",
    "print(arr.shape)"
   ]
  },
  {
   "cell_type": "markdown",
   "id": "d8b9ebdf",
   "metadata": {},
   "source": [
    "# Joining Numpy Arrays"
   ]
  },
  {
   "cell_type": "code",
   "execution_count": 70,
   "id": "e799986a",
   "metadata": {},
   "outputs": [
    {
     "name": "stdout",
     "output_type": "stream",
     "text": [
      "[1 2 3 4 5 6]\n"
     ]
    }
   ],
   "source": [
    "arr1 = np.array([1,2,3])\n",
    "\n",
    "arr2 = np.array([4,5,6])\n",
    "\n",
    "arr = np.concatenate((arr1, arr2))\n",
    "print(arr)"
   ]
  },
  {
   "cell_type": "markdown",
   "id": "e9b768cb",
   "metadata": {},
   "source": [
    "# Join 2D arrays"
   ]
  },
  {
   "cell_type": "code",
   "execution_count": 71,
   "id": "34b69791",
   "metadata": {},
   "outputs": [
    {
     "name": "stdout",
     "output_type": "stream",
     "text": [
      "[[1 2 5 6]\n",
      " [3 4 7 8]]\n"
     ]
    }
   ],
   "source": [
    "arr1 = np.array([[1,2],[3,4]])\n",
    "arr2 = np.array([[5,6],[7,8]])\n",
    "arr = np.concatenate((arr1,arr2), axis=1)\n",
    "print(arr)"
   ]
  },
  {
   "cell_type": "code",
   "execution_count": 72,
   "id": "b12d59f8",
   "metadata": {},
   "outputs": [
    {
     "name": "stdout",
     "output_type": "stream",
     "text": [
      "[[1 2]\n",
      " [3 4]\n",
      " [5 6]\n",
      " [7 8]]\n"
     ]
    }
   ],
   "source": [
    "arr1 = np.array([[1,2],[3,4]])\n",
    "arr2 = np.array([[5,6],[7,8]])\n",
    "arr = np.concatenate((arr1,arr2), axis=0)\n",
    "print(arr)"
   ]
  },
  {
   "cell_type": "markdown",
   "id": "b0a347ef",
   "metadata": {},
   "source": [
    "# join 3D arrays"
   ]
  },
  {
   "cell_type": "code",
   "execution_count": 73,
   "id": "f6794413",
   "metadata": {},
   "outputs": [
    {
     "name": "stdout",
     "output_type": "stream",
     "text": [
      "[[[ 1  2  9 10]\n",
      "  [ 3  4 11 12]]\n",
      "\n",
      " [[ 5  6 13 14]\n",
      "  [ 7  8 15 16]]]\n"
     ]
    }
   ],
   "source": [
    "array1 = np.array([[[1, 2], [3, 4]], [[5, 6], [7, 8]]])\n",
    "array2 = np.array([[[9, 10], [11, 12]], [[13, 14], [15, 16]]])\n",
    "\n",
    "# Concatenate along a specific axis (e.g., along the z-axis, which is the 2nd dimension)\n",
    "result = np.concatenate((array1, array2), axis=2)\n",
    "\n",
    "print(result)"
   ]
  },
  {
   "cell_type": "code",
   "execution_count": 76,
   "id": "4419c881",
   "metadata": {},
   "outputs": [
    {
     "name": "stdout",
     "output_type": "stream",
     "text": [
      "[[[ 1  2]\n",
      "  [ 3  4]\n",
      "  [ 9 10]\n",
      "  [11 12]]\n",
      "\n",
      " [[ 5  6]\n",
      "  [ 7  8]\n",
      "  [13 14]\n",
      "  [15 16]]]\n"
     ]
    }
   ],
   "source": [
    "array1 = np.array([[[1, 2], [3, 4]], [[5, 6], [7, 8]]])\n",
    "array2 = np.array([[[9, 10], [11, 12]], [[13, 14], [15, 16]]])\n",
    "\n",
    "result = np.concatenate((array1, array2), axis=1)\n",
    "\n",
    "print(result)"
   ]
  },
  {
   "cell_type": "markdown",
   "id": "bab32add",
   "metadata": {},
   "source": [
    "# Splitting Numpy Arrays"
   ]
  },
  {
   "cell_type": "markdown",
   "id": "2481c79a",
   "metadata": {},
   "source": [
    "# splitting the array in 3 parts"
   ]
  },
  {
   "cell_type": "code",
   "execution_count": 77,
   "id": "b53ed894",
   "metadata": {},
   "outputs": [
    {
     "name": "stdout",
     "output_type": "stream",
     "text": [
      "[array([1, 2]), array([3, 4]), array([5, 6])]\n"
     ]
    }
   ],
   "source": [
    "arr = np.array([1,2,3,4,5,6])\n",
    "newarr = np.array_split(arr,3)\n",
    "print(newarr)"
   ]
  },
  {
   "cell_type": "markdown",
   "id": "a330d675",
   "metadata": {},
   "source": [
    "# splitting the array in 4 parts"
   ]
  },
  {
   "cell_type": "code",
   "execution_count": 78,
   "id": "08e52ffe",
   "metadata": {},
   "outputs": [
    {
     "name": "stdout",
     "output_type": "stream",
     "text": [
      "[array([1, 2]), array([3, 4]), array([5]), array([6])]\n"
     ]
    }
   ],
   "source": [
    "arr = np.array([1,2,3,4,5,6])\n",
    "newarr = np.array_split(arr,4)\n",
    "print(newarr)"
   ]
  },
  {
   "cell_type": "markdown",
   "id": "71555e83",
   "metadata": {},
   "source": [
    "# Ravel and Flatten"
   ]
  },
  {
   "cell_type": "markdown",
   "id": "54f05e2e",
   "metadata": {},
   "source": [
    "Converts multidimensional array into 1 D array."
   ]
  },
  {
   "cell_type": "code",
   "execution_count": 92,
   "id": "72abed4a",
   "metadata": {},
   "outputs": [
    {
     "name": "stdout",
     "output_type": "stream",
     "text": [
      "[[[1 2 3]\n",
      "  [4 5 6]\n",
      "  [7 8 9]]]\n",
      "dimension is 3\n",
      "[1 2 3 4 5 6 7 8 9]\n",
      "now the new dimension is 1\n"
     ]
    }
   ],
   "source": [
    "m = np.array([[[1,2,3],[4,5,6],[7,8,9]]])  #3D\n",
    "print(m)\n",
    "print(\"dimension is\",m.ndim)\n",
    "n = m.ravel()\n",
    "print(n)\n",
    "print(\"now the new dimension is\", n.ndim)"
   ]
  },
  {
   "cell_type": "code",
   "execution_count": 93,
   "id": "5cc1dfe5",
   "metadata": {},
   "outputs": [
    {
     "name": "stdout",
     "output_type": "stream",
     "text": [
      "[[[1 2 3]\n",
      "  [4 5 6]\n",
      "  [7 8 9]]]\n",
      "dimension is 3\n",
      "[1 2 3 4 5 6 7 8 9]\n",
      "now the new dimension is 1\n"
     ]
    }
   ],
   "source": [
    "m = np.array([[[1,2,3],[4,5,6],[7,8,9]]])\n",
    "print(m)\n",
    "print(\"dimension is\",m.ndim)\n",
    "n = m.flatten()  #ravel and flatten work same.\n",
    "print(n)\n",
    "print(\"now the new dimension is\", n.ndim)"
   ]
  },
  {
   "cell_type": "code",
   "execution_count": 94,
   "id": "47934038",
   "metadata": {},
   "outputs": [
    {
     "name": "stdout",
     "output_type": "stream",
     "text": [
      "[[[[ 1  2  3]\n",
      "   [78 79 80]\n",
      "   [45 46 47]\n",
      "   [34 47 55]]]]\n",
      "dimension is 4\n",
      "[ 1  2  3 78 79 80 45 46 47 34 47 55]\n",
      "now the new dimension is 1\n"
     ]
    }
   ],
   "source": [
    "c = np.array([[[[1,2,3],[78,79,80],[45,46,47],[34,47,55]]]])  #4D\n",
    "print(c)\n",
    "print(\"dimension is\",c.ndim)\n",
    "n = c.ravel()\n",
    "print(n)\n",
    "print(\"now the new dimension is\", n.ndim)"
   ]
  },
  {
   "cell_type": "markdown",
   "id": "91444702",
   "metadata": {},
   "source": [
    "# Unique Function"
   ]
  },
  {
   "cell_type": "code",
   "execution_count": 101,
   "id": "8b1f51ea",
   "metadata": {},
   "outputs": [
    {
     "name": "stdout",
     "output_type": "stream",
     "text": [
      "[12  3  4  6  7 64 65  7  9 34 66 88 23  3  7 12 64]\n",
      "[ 3  4  6  7  9 12 23 34 64 65 66 88]\n"
     ]
    }
   ],
   "source": [
    "k = np.array([12,3,4,6,7,64,65,7,9,34,66,88,23,3,7,12,64])\n",
    "print(k)\n",
    "x=np.unique(k) #unique value\n",
    "print(x)"
   ]
  },
  {
   "cell_type": "code",
   "execution_count": 102,
   "id": "10f5fd64",
   "metadata": {},
   "outputs": [
    {
     "name": "stdout",
     "output_type": "stream",
     "text": [
      "[12  3  4  6  7 64 65  7  9 34 66 88 23  3  7 12 64]\n",
      "(array([ 3,  4,  6,  7,  9, 12, 23, 34, 64, 65, 66, 88]), array([ 1,  2,  3,  4,  8,  0, 12,  9,  5,  6, 10, 11], dtype=int64))\n"
     ]
    }
   ],
   "source": [
    "k = np.array([12,3,4,6,7,64,65,7,9,34,66,88,23,3,7,12,64])\n",
    "print(k)\n",
    "x=np.unique(k, return_index=True) #index position\n",
    "print(x)"
   ]
  },
  {
   "cell_type": "code",
   "execution_count": 103,
   "id": "055b4f41",
   "metadata": {},
   "outputs": [
    {
     "name": "stdout",
     "output_type": "stream",
     "text": [
      "[12  3  4  6  7 64 65  7  9 34 66 88 23  3  7 12 64]\n",
      "(array([ 3,  4,  6,  7,  9, 12, 23, 34, 64, 65, 66, 88]), array([ 1,  2,  3,  4,  8,  0, 12,  9,  5,  6, 10, 11], dtype=int64), array([2, 1, 1, 3, 1, 2, 1, 1, 2, 1, 1, 1], dtype=int64))\n"
     ]
    }
   ],
   "source": [
    "k = np.array([12,3,4,6,7,64,65,7,9,34,66,88,23,3,7,12,64])\n",
    "print(k)\n",
    "x=np.unique(k, return_index=True, return_counts=True) #repeat time\n",
    "print(x)"
   ]
  },
  {
   "cell_type": "markdown",
   "id": "67e23df6",
   "metadata": {},
   "source": [
    "# Delete"
   ]
  },
  {
   "cell_type": "code",
   "execution_count": 105,
   "id": "94a2ecfc",
   "metadata": {},
   "outputs": [
    {
     "name": "stdout",
     "output_type": "stream",
     "text": [
      "[12 14 15]\n"
     ]
    }
   ],
   "source": [
    "a = np.array([12,13,14,15]) #1D\n",
    "d = np.delete(a, [1])\n",
    "print(d)"
   ]
  },
  {
   "cell_type": "code",
   "execution_count": 112,
   "id": "89e869dc",
   "metadata": {},
   "outputs": [
    {
     "name": "stdout",
     "output_type": "stream",
     "text": [
      "[[2 3 4 5]\n",
      " [6 7 8 9]\n",
      " [3 4 6 9]]\n",
      "dimension is: 2\n",
      "\n",
      "[[2 3 4 5]\n",
      " [6 7 8 9]]\n"
     ]
    }
   ],
   "source": [
    "x = np.array([[2,3,4,5],[6,7,8,9],[3,4,6,9]]) #2D\n",
    "print(x)\n",
    "print(\"dimension is:\",x.ndim)\n",
    "m = np.delete(x, 2, axis=0)\n",
    "print()\n",
    "print(m)"
   ]
  },
  {
   "cell_type": "code",
   "execution_count": 113,
   "id": "f5d920f0",
   "metadata": {},
   "outputs": [
    {
     "name": "stdout",
     "output_type": "stream",
     "text": [
      "[[2 3 4 5]\n",
      " [6 7 8 9]\n",
      " [3 4 6 9]]\n",
      "dimension is: 2\n",
      "\n",
      "[[6 7 8 9]\n",
      " [3 4 6 9]]\n"
     ]
    }
   ],
   "source": [
    "x = np.array([[2,3,4,5],[6,7,8,9],[3,4,6,9]]) #2D\n",
    "print(x)\n",
    "print(\"dimension is:\",x.ndim)\n",
    "m = np.delete(x, 0, axis=0)\n",
    "print()\n",
    "print(m)"
   ]
  },
  {
   "cell_type": "code",
   "execution_count": 120,
   "id": "f3fa5126",
   "metadata": {},
   "outputs": [
    {
     "name": "stdout",
     "output_type": "stream",
     "text": [
      "[[[1 2 3]\n",
      "  [4 5 6]\n",
      "  [7 8 9]]]\n",
      "dimension is: 3\n",
      "\n",
      "[[[1 2]\n",
      "  [4 5]\n",
      "  [7 8]]]\n"
     ]
    }
   ],
   "source": [
    "x = np.array([[[1,2,3],[4,5,6],[7,8,9]]]) #3D\n",
    "print(x)\n",
    "print(\"dimension is:\",x.ndim)\n",
    "m = np.delete(x, 2, axis=2)\n",
    "print()\n",
    "print(m)"
   ]
  },
  {
   "cell_type": "code",
   "execution_count": null,
   "id": "7f0fe470",
   "metadata": {},
   "outputs": [],
   "source": []
  }
 ],
 "metadata": {
  "kernelspec": {
   "display_name": "Python 3 (ipykernel)",
   "language": "python",
   "name": "python3"
  },
  "language_info": {
   "codemirror_mode": {
    "name": "ipython",
    "version": 3
   },
   "file_extension": ".py",
   "mimetype": "text/x-python",
   "name": "python",
   "nbconvert_exporter": "python",
   "pygments_lexer": "ipython3",
   "version": "3.11.5"
  }
 },
 "nbformat": 4,
 "nbformat_minor": 5
}
